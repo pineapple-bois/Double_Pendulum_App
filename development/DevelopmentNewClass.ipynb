{
 "cells": [
  {
   "cell_type": "markdown",
   "source": [
    "# Multi-Pendulum Development"
   ],
   "metadata": {
    "collapsed": false
   },
   "id": "5f0449a15043e4df"
  },
  {
   "cell_type": "code",
   "execution_count": 1,
   "id": "initial_id",
   "metadata": {
    "collapsed": true,
    "ExecuteTime": {
     "end_time": "2024-02-18T23:36:49.788945Z",
     "start_time": "2024-02-18T23:36:47.941591Z"
    }
   },
   "source": [
    "import sympy as sp\n",
    "import numpy as np\n",
    "import matplotlib.pyplot as plt\n",
    "import pandas as pd\n",
    "from scipy.integrate import odeint, solve_ivp\n",
    "import plotly.graph_objs as go\n",
    "from plotly.subplots import make_subplots\n",
    "import json\n",
    "from MathFunctions import *\n",
    "from DoublePendulumRefactor import DoublePendulum, DoublePendulumExplorer"
   ],
   "outputs": []
  },
  {
   "cell_type": "code",
   "execution_count": 2,
   "source": [
    "# Declare variables & constants\n",
    "t = sp.Symbol(\"t\")\n",
    "l1, l2, m1, m2, M1, M2, g = sp.symbols('l1 l2 m1 m2 M1 M2 g', real=True, positive=True)\n",
    "\n",
    "# Declare functions\n",
    "theta1 = sp.Function('theta1')(t)\n",
    "theta2 = sp.Function('theta2')(t)\n",
    "omega1 = sp.Function('omega1')(t)\n",
    "omega2 = sp.Function('omega2')(t)"
   ],
   "metadata": {
    "collapsed": false,
    "ExecuteTime": {
     "end_time": "2024-02-18T23:36:49.794366Z",
     "start_time": "2024-02-18T23:36:49.790755Z"
    }
   },
   "id": "56492ebdc20bbc2d",
   "outputs": []
  },
  {
   "cell_type": "code",
   "execution_count": 3,
   "source": [
    "# Define parameters\n",
    "params = {\n",
    "    m1: 1,    # mass1\n",
    "    m2: 1,    # mass2\n",
    "    M1: 1,    # compound mass1\n",
    "    M2: 1,    # compound mass2\n",
    "    l1: 1,    # length1\n",
    "    l2: 1,    # length2\n",
    "    g : 9.81  # acceleration due to gravity\n",
    "}\n",
    "\n",
    "# using (time end - time start) * 200\n",
    "# Is this enough/too much??\n",
    "time = [0, 120, 48000]"
   ],
   "metadata": {
    "collapsed": false,
    "ExecuteTime": {
     "end_time": "2024-02-18T23:36:49.800307Z",
     "start_time": "2024-02-18T23:36:49.795838Z"
    }
   },
   "id": "15ea9ad5c67ba191",
   "outputs": []
  },
  {
   "cell_type": "code",
   "execution_count": 4,
   "source": [
    "# Instantiate DoublePendulumExplorer\n",
    "simple_explorer = DoublePendulumExplorer(params, time, 'simple')\n",
    "compound_explorer = DoublePendulumExplorer(params, time, 'compound')"
   ],
   "metadata": {
    "collapsed": false,
    "ExecuteTime": {
     "end_time": "2024-02-18T23:37:05.485310Z",
     "start_time": "2024-02-18T23:36:52.688313Z"
    }
   },
   "id": "c3ac61a423c2e8e6",
   "outputs": []
  },
  {
   "cell_type": "markdown",
   "source": [
    "----\n",
    "&nbsp;\n",
    "## Creating data dictionary and testing in Pandas"
   ],
   "metadata": {
    "collapsed": false
   },
   "id": "6e06dc280a6f0a50"
  },
  {
   "cell_type": "markdown",
   "source": [
    "### Simple model\n",
    "\n",
    "`Below Runtime approx: 2.5 mins`"
   ],
   "metadata": {
    "collapsed": false
   },
   "id": "6a692c068eac128b"
  },
  {
   "cell_type": "code",
   "execution_count": 9,
   "source": [
    "simple_explorer.get_simulation_data(integrator=solve_ivp)"
   ],
   "metadata": {
    "collapsed": false,
    "ExecuteTime": {
     "end_time": "2024-02-18T23:41:51.725977Z",
     "start_time": "2024-02-18T23:39:33.220559Z"
    }
   },
   "id": "cc6b114c5ff9f5f8",
   "outputs": []
  },
  {
   "cell_type": "code",
   "execution_count": 6,
   "source": [
    "simple_dict = simple_explorer.simulation_data_dict\n",
    "simple_df = pd.DataFrame(simple_dict[180])\n",
    "\n",
    "print(simple_df.info())\n",
    "simple_df.head()"
   ],
   "metadata": {
    "collapsed": false,
    "ExecuteTime": {
     "end_time": "2024-02-18T23:30:55.954030Z",
     "start_time": "2024-02-18T23:30:55.900180Z"
    }
   },
   "id": "1c52d97052f3cbbb",
   "outputs": []
  },
  {
   "cell_type": "markdown",
   "source": [
    "#### Convert to JSON "
   ],
   "metadata": {
    "collapsed": false
   },
   "id": "62b243da7a04d657"
  },
  {
   "cell_type": "code",
   "execution_count": 11,
   "source": [
    "import json\n",
    "\n",
    "# Function to convert NumPy arrays to lists\n",
    "def numpy_to_list(data):\n",
    "    if isinstance(data, np.ndarray):\n",
    "        return data.tolist()\n",
    "    elif isinstance(data, dict):\n",
    "        return {k: numpy_to_list(v) for k, v in data.items()}\n",
    "    else:\n",
    "        return data"
   ],
   "metadata": {
    "collapsed": false
   },
   "id": "3bbd1240d1db43ca",
   "outputs": []
  },
  {
   "cell_type": "code",
   "execution_count": null,
   "source": [
    "# Convert the simulation data to a JSON-serializable format\n",
    "json_ready_data = {k: numpy_to_list(v) for k, v in simple_explorer.simulation_data_dict.items()}\n",
    "\n",
    "# Serialize to a JSON file\n",
    "with open('JSONdata/simple_data.json', 'w') as jsonfile:\n",
    "    json.dump(json_ready_data, jsonfile, indent=4)"
   ],
   "metadata": {
    "collapsed": false
   },
   "id": "59f8ff5a982c4aeb",
   "outputs": []
  },
  {
   "cell_type": "markdown",
   "source": [
    "----\n",
    "&nbsp;\n",
    "### Compound model"
   ],
   "metadata": {
    "collapsed": false
   },
   "id": "17ea397d192b797e"
  },
  {
   "cell_type": "code",
   "execution_count": 5,
   "source": [
    "compound_explorer.get_simulation_data(integrator=solve_ivp)"
   ],
   "metadata": {
    "collapsed": false,
    "ExecuteTime": {
     "end_time": "2024-02-18T23:38:34.134093Z",
     "start_time": "2024-02-18T23:37:13.806801Z"
    }
   },
   "id": "3467cf37eff8bf59",
   "outputs": []
  },
  {
   "cell_type": "code",
   "execution_count": 6,
   "source": [
    "compound_dict = compound_explorer.simulation_data_dict\n",
    "compound_df = pd.DataFrame(compound_dict[180])\n",
    "\n",
    "print(compound_df.info())\n",
    "compound_df.head()"
   ],
   "metadata": {
    "collapsed": false,
    "ExecuteTime": {
     "end_time": "2024-02-18T23:38:42.167831Z",
     "start_time": "2024-02-18T23:38:42.137139Z"
    }
   },
   "id": "68ad9241972adcdd",
   "outputs": []
  },
  {
   "cell_type": "markdown",
   "source": [
    "#### Convert to JSON "
   ],
   "metadata": {
    "collapsed": false
   },
   "id": "6396cd5ddf2a1e5e"
  },
  {
   "cell_type": "code",
   "execution_count": null,
   "source": [
    "# Convert the simulation data to a JSON-serializable format\n",
    "json_ready_data = {k: numpy_to_list(v) for k, v in compound_explorer.simulation_data_dict.items()}\n",
    "\n",
    "# Serialize to a JSON file\n",
    "with open('JSONdata/compound_data.json', 'w') as jsonfile:\n",
    "    json.dump(json_ready_data, jsonfile, indent=4)"
   ],
   "metadata": {
    "collapsed": false
   },
   "id": "6df8b4dc09568c7a",
   "outputs": []
  },
  {
   "cell_type": "markdown",
   "source": [
    "----\n",
    "&nbsp;\n",
    "### Plot testing"
   ],
   "metadata": {
    "collapsed": false
   },
   "id": "313153f2358f48b9"
  },
  {
   "cell_type": "markdown",
   "source": [
    "`simple`"
   ],
   "metadata": {
    "collapsed": false
   },
   "id": "a5951eef9d054bce"
  },
  {
   "cell_type": "code",
   "execution_count": 28,
   "source": [
    "simple_explorer.find_poincare_section(y_fixed=-1.75, time_interval=(0, 120), angle_interval=(-180, 180))"
   ],
   "metadata": {
    "collapsed": false,
    "ExecuteTime": {
     "end_time": "2024-02-18T23:51:48.757021Z",
     "start_time": "2024-02-18T23:51:37.528011Z"
    }
   },
   "id": "85216ed1ee208c42",
   "outputs": []
  },
  {
   "cell_type": "code",
   "execution_count": 29,
   "source": [
    "simple_explorer.plot_poincare_map()"
   ],
   "metadata": {
    "collapsed": false,
    "ExecuteTime": {
     "end_time": "2024-02-18T23:51:54.631223Z",
     "start_time": "2024-02-18T23:51:51.778699Z"
    }
   },
   "id": "81bd5342e868fbe7",
   "outputs": []
  },
  {
   "cell_type": "markdown",
   "source": [
    "`compound`"
   ],
   "metadata": {
    "collapsed": false
   },
   "id": "9103083ed2b99b98"
  },
  {
   "cell_type": "code",
   "execution_count": 26,
   "source": [
    "compound_explorer.find_poincare_section(y_fixed=-1.75, time_interval=(0, 120), angle_interval=(-180, 180))"
   ],
   "metadata": {
    "collapsed": false,
    "ExecuteTime": {
     "end_time": "2024-02-18T23:50:36.777632Z",
     "start_time": "2024-02-18T23:50:25.329955Z"
    }
   },
   "id": "5b9f9f735201e290",
   "outputs": []
  },
  {
   "cell_type": "code",
   "execution_count": 27,
   "source": [
    "compound_explorer.plot_poincare_map()"
   ],
   "metadata": {
    "collapsed": false,
    "ExecuteTime": {
     "end_time": "2024-02-18T23:50:41.684864Z",
     "start_time": "2024-02-18T23:50:38.823432Z"
    }
   },
   "id": "7df8661c2f80c248",
   "outputs": []
  },
  {
   "cell_type": "markdown",
   "source": [
    "### IDEA: 19/02/24\n",
    "\n",
    "Record **points** $(x, y)$ that cross the plane rather than just focusing on the y-coordinate!\n",
    "\n",
    "- If motion periodic, it was cross the fixed $yz$-plane at the same points every period. \n",
    "- If Lissajous curves then I'm not sure of the behaviour, nor how to record the point. The motion will be semi periodic. \n",
    "- If chaotic, then the $(x, y)$ crossing will appear almost random. \n",
    "\n",
    "#### STRATEGY\n",
    "\n",
    "Rather than going for an enormous granular dataset, restrict it.\n",
    " - Less points, more $yz$ slices at regular intervals.\n",
    "  - Glue together to give the portrait of the system as a whole. \n"
   ],
   "metadata": {
    "collapsed": false
   },
   "id": "b0cd0826f08900aa"
  },
  {
   "cell_type": "markdown",
   "source": [
    "----\n",
    "&nbsp;\n",
    "\n",
    "### Current State of `DoublePendulumExplorer`\n",
    "\n",
    "The `DoublePendulumExplorer` class extends a `DoublePendulum` class, focusing on exploring the dynamics of a double pendulum under various initial conditions, particularly varying `theta2` angles:\n",
    "\n",
    "- **Running Simulations**: It can execute simulations across a predefined range of initial conditions.\n",
    "- **Storing Positions**: Calculates and stores the positions $(x,y)$ of both pendulums for further analysis.\n",
    "\n",
    "\n",
    "### Implemented Methods\n",
    "\n",
    "- `_run_full_simulation_and_analysis`: Manages the full cycle of running simulations, calculating positions, and organizing the data.\n",
    "- `_generate_initial_conditions`, `_run_simulations`, `_calculate_and_store_positions`: These methods collectively handle the simulation process.\n",
    "\n",
    "We have added a class attribute, `get_simulation_data()` which calls all of the above and creates a dictionary `self.simulation_data_dict` which is indexed $\\theta_2 \\in [-\\pi, \\pi, \\text{step}=0.5]$ $\\implies$ each index represents $0.5 ^{\\circ}$\n",
    "\n",
    "The structure is:\n",
    "\n",
    "```python\n",
    "{0: {'theta1': array([ 0.00000000e+00,  6.00715702e-20,  2.40188874e-19, ...,\n",
    "         -1.42244710e+00, -1.43566953e+00, -1.44593863e+00]),\n",
    "  'theta2': array([-3.14159265, -3.14159265, -3.14159265, ..., 43.92106982,\n",
    "         43.9840117 , 44.04642025]),\n",
    "  'omega1': array([ 0.00000000e+00,  1.20118394e-17,  2.40061350e-17, ...,\n",
    "         -1.47157868e+00, -1.17370579e+00, -8.80553174e-01]),\n",
    "  'omega2': array([0.00000000e+00, 2.40256435e-17, 4.80278951e-17, ...,\n",
    "         6.32831315e+00, 6.26317666e+00, 6.22103776e+00]),\n",
    "  'x1': array([ 0.00000000e+00,  6.00715702e-20,  2.40188874e-19, ...,\n",
    "         -9.89016419e-01, -9.90884258e-01, -9.92215399e-01]),\n",
    "  'y1': array([-1.        , -1.        , -1.        , ..., -0.14780569,\n",
    "         -0.13471595, -0.12453354]),\n",
    "  'x2': array([-1.22464680e-16, -1.22404608e-16, -1.22224491e-16, ...,\n",
    "         -1.05020550e+00, -9.89169705e-01, -9.28136239e-01]),\n",
    "  'y2': array([ 0.        ,  0.        ,  0.        , ..., -1.14593189,\n",
    "         -1.13471448, -1.12247836])}, 1: {..., }, 2: {..., } }\n",
    "```\n",
    "\n",
    "Although a good exercise is \"How to\" the two enormous 9GB datasets for `simple` and `compound` are way too granular. \n",
    "This dataset is unwieldy and will be **expensive** to host. \n",
    "\n",
    "See IDEA above for new strategy. \n",
    "\n",
    "The below are attempted implementations:\n",
    "\n",
    "- `find_poincare_section`: Calculates the Poincaré section crossings.\n",
    "- `plot_poincare_map`: Visualises the Poincaré section\n",
    "\n",
    "Both require optimisation\n",
    "\n",
    "### Outstanding Tasks\n",
    "\n",
    "- **Poincaré Sections**: Identify and records the Poincaré section crossings based on a specific `y_fixed` value and within designated time and angle intervals.\n",
    "- **Looping Trajectories**: Find them! that is, where $\\theta_2>\\pi$\n",
    "- **Data Structure Optimization**: Explore database storage with MongoDB or something similar\n",
    "- **Distinguishing Dense Regions**: Implementing a method to identify and visually distinguish dense regions of the Poincaré map, potentially indicating periodic orbits or other dynamic phenomena.\n"
   ],
   "metadata": {
    "collapsed": false
   },
   "id": "f06b71949def74a5"
  },
  {
   "cell_type": "code",
   "execution_count": null,
   "source": [],
   "metadata": {
    "collapsed": false
   },
   "id": "51cba0eca3e84346",
   "outputs": []
  }
 ],
 "metadata": {
  "kernelspec": {
   "display_name": "Python 3",
   "language": "python",
   "name": "python3"
  },
  "language_info": {
   "codemirror_mode": {
    "name": "ipython",
    "version": 2
   },
   "file_extension": ".py",
   "mimetype": "text/x-python",
   "name": "python",
   "nbconvert_exporter": "python",
   "pygments_lexer": "ipython2",
   "version": "2.7.6"
  }
 },
 "nbformat": 4,
 "nbformat_minor": 5
}
