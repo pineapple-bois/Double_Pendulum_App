{
 "cells": [
  {
   "cell_type": "markdown",
   "source": [
    "## Read in JSON data \n",
    "(multiple simulations of $\\theta_2$)"
   ],
   "metadata": {
    "collapsed": false
   },
   "id": "79bac04e21bd4ab1"
  },
  {
   "cell_type": "code",
   "execution_count": 1,
   "id": "initial_id",
   "metadata": {
    "collapsed": true,
    "ExecuteTime": {
     "end_time": "2024-02-18T22:33:29.922763Z",
     "start_time": "2024-02-18T22:33:28.353172Z"
    }
   },
   "outputs": [],
   "source": [
    "import sympy as sp\n",
    "import numpy as np\n",
    "import matplotlib.pyplot as plt\n",
    "import pandas as pd\n",
    "import json"
   ]
  },
  {
   "cell_type": "code",
   "execution_count": null,
   "outputs": [],
   "source": [
    "# To access the data for a specific simulation and convert it to a DataFrame:\n",
    "index_to_access = 180  "
   ],
   "metadata": {
    "collapsed": false
   },
   "id": "20fac48fcb63833"
  },
  {
   "cell_type": "markdown",
   "source": [
    "`simple model`"
   ],
   "metadata": {
    "collapsed": false
   },
   "id": "2daa96491f1935c5"
  },
  {
   "cell_type": "code",
   "execution_count": 3,
   "outputs": [],
   "source": [
    "# Load the data from the JSON file\n",
    "with open('JSONdata/simple_data.json') as file:\n",
    "    simulation_data_dict = json.load(file)"
   ],
   "metadata": {
    "collapsed": false,
    "ExecuteTime": {
     "end_time": "2024-02-18T21:50:50.361811Z",
     "start_time": "2024-02-18T21:46:59.196293Z"
    }
   },
   "id": "2beb0dd4a97de303"
  },
  {
   "cell_type": "code",
   "execution_count": 8,
   "outputs": [
    {
     "name": "stdout",
     "output_type": "stream",
     "text": [
      "Shape: (48000, 8)\n"
     ]
    },
    {
     "data": {
      "text/plain": "         theta1    theta2    omega1    omega2            x1   y1        x2  \\\n0  0.000000e+00 -1.568612  0.000000  0.000000  0.000000e+00 -1.0 -0.999998   \n1 -3.372356e-08 -1.568581 -0.000027  0.024526 -3.372356e-08 -1.0 -0.999998   \n2 -1.377129e-07 -1.568489 -0.000057  0.049051 -1.377129e-07 -1.0 -0.999997   \n3 -3.204236e-07 -1.568336 -0.000091  0.073577 -3.204236e-07 -1.0 -0.999997   \n4 -5.959482e-07 -1.568121 -0.000131  0.098102 -5.959482e-07 -1.0 -0.999997   \n\n         y2  \n0 -1.002185  \n1 -1.002215  \n2 -1.002307  \n3 -1.002461  \n4 -1.002675  ",
      "text/html": "<div>\n<style scoped>\n    .dataframe tbody tr th:only-of-type {\n        vertical-align: middle;\n    }\n\n    .dataframe tbody tr th {\n        vertical-align: top;\n    }\n\n    .dataframe thead th {\n        text-align: right;\n    }\n</style>\n<table border=\"1\" class=\"dataframe\">\n  <thead>\n    <tr style=\"text-align: right;\">\n      <th></th>\n      <th>theta1</th>\n      <th>theta2</th>\n      <th>omega1</th>\n      <th>omega2</th>\n      <th>x1</th>\n      <th>y1</th>\n      <th>x2</th>\n      <th>y2</th>\n    </tr>\n  </thead>\n  <tbody>\n    <tr>\n      <th>0</th>\n      <td>0.000000e+00</td>\n      <td>-1.568612</td>\n      <td>0.000000</td>\n      <td>0.000000</td>\n      <td>0.000000e+00</td>\n      <td>-1.0</td>\n      <td>-0.999998</td>\n      <td>-1.002185</td>\n    </tr>\n    <tr>\n      <th>1</th>\n      <td>-3.372356e-08</td>\n      <td>-1.568581</td>\n      <td>-0.000027</td>\n      <td>0.024526</td>\n      <td>-3.372356e-08</td>\n      <td>-1.0</td>\n      <td>-0.999998</td>\n      <td>-1.002215</td>\n    </tr>\n    <tr>\n      <th>2</th>\n      <td>-1.377129e-07</td>\n      <td>-1.568489</td>\n      <td>-0.000057</td>\n      <td>0.049051</td>\n      <td>-1.377129e-07</td>\n      <td>-1.0</td>\n      <td>-0.999997</td>\n      <td>-1.002307</td>\n    </tr>\n    <tr>\n      <th>3</th>\n      <td>-3.204236e-07</td>\n      <td>-1.568336</td>\n      <td>-0.000091</td>\n      <td>0.073577</td>\n      <td>-3.204236e-07</td>\n      <td>-1.0</td>\n      <td>-0.999997</td>\n      <td>-1.002461</td>\n    </tr>\n    <tr>\n      <th>4</th>\n      <td>-5.959482e-07</td>\n      <td>-1.568121</td>\n      <td>-0.000131</td>\n      <td>0.098102</td>\n      <td>-5.959482e-07</td>\n      <td>-1.0</td>\n      <td>-0.999997</td>\n      <td>-1.002675</td>\n    </tr>\n  </tbody>\n</table>\n</div>"
     },
     "execution_count": 8,
     "metadata": {},
     "output_type": "execute_result"
    }
   ],
   "source": [
    "specific_simulation_data = simulation_data_dict[str(index_to_access)]  # keys will be in string format\n",
    "specific_simple_df = pd.DataFrame(specific_simulation_data)\n",
    "\n",
    "# Display the DataFrame for the specific simulation\n",
    "print(f\"Shape: {specific_simple_df.shape}\")\n",
    "specific_simple_df.head()"
   ],
   "metadata": {
    "collapsed": false,
    "ExecuteTime": {
     "end_time": "2024-02-18T21:59:28.529424Z",
     "start_time": "2024-02-18T21:59:28.459214Z"
    }
   },
   "id": "963719cf72a433df"
  },
  {
   "cell_type": "markdown",
   "source": [
    "`compound model`"
   ],
   "metadata": {
    "collapsed": false
   },
   "id": "c1dcf538e08cf045"
  },
  {
   "cell_type": "code",
   "execution_count": 9,
   "outputs": [],
   "source": [
    "# Load the data from the JSON file\n",
    "with open('JSONdata/compound_data.json') as file:\n",
    "    simulation_data_dict_two = json.load(file)"
   ],
   "metadata": {
    "collapsed": false,
    "ExecuteTime": {
     "end_time": "2024-02-18T22:02:52.621335Z",
     "start_time": "2024-02-18T21:59:34.199160Z"
    }
   },
   "id": "4b6fafa1a598a8b1"
  },
  {
   "cell_type": "code",
   "execution_count": 10,
   "outputs": [
    {
     "name": "stdout",
     "output_type": "stream",
     "text": [
      "Shape: (48000, 8)\n"
     ]
    },
    {
     "data": {
      "text/plain": "         theta1    theta2    omega1    omega2            x1   y1        x2  \\\n0  0.000000e+00 -1.568612  0.000000  0.000000  0.000000e+00 -1.0 -0.999998   \n1 -1.732621e-08 -1.568585 -0.000014  0.021022 -1.732621e-08 -1.0 -0.999998   \n2 -7.054687e-08 -1.568507 -0.000029  0.042044 -7.054687e-08 -1.0 -0.999997   \n3 -1.633876e-07 -1.568375 -0.000046  0.063065 -1.633876e-07 -1.0 -0.999997   \n4 -3.020575e-07 -1.568191 -0.000066  0.084087 -3.020575e-07 -1.0 -0.999997   \n\n         y2  \n0 -1.002185  \n1 -1.002211  \n2 -1.002290  \n3 -1.002421  \n4 -1.002605  ",
      "text/html": "<div>\n<style scoped>\n    .dataframe tbody tr th:only-of-type {\n        vertical-align: middle;\n    }\n\n    .dataframe tbody tr th {\n        vertical-align: top;\n    }\n\n    .dataframe thead th {\n        text-align: right;\n    }\n</style>\n<table border=\"1\" class=\"dataframe\">\n  <thead>\n    <tr style=\"text-align: right;\">\n      <th></th>\n      <th>theta1</th>\n      <th>theta2</th>\n      <th>omega1</th>\n      <th>omega2</th>\n      <th>x1</th>\n      <th>y1</th>\n      <th>x2</th>\n      <th>y2</th>\n    </tr>\n  </thead>\n  <tbody>\n    <tr>\n      <th>0</th>\n      <td>0.000000e+00</td>\n      <td>-1.568612</td>\n      <td>0.000000</td>\n      <td>0.000000</td>\n      <td>0.000000e+00</td>\n      <td>-1.0</td>\n      <td>-0.999998</td>\n      <td>-1.002185</td>\n    </tr>\n    <tr>\n      <th>1</th>\n      <td>-1.732621e-08</td>\n      <td>-1.568585</td>\n      <td>-0.000014</td>\n      <td>0.021022</td>\n      <td>-1.732621e-08</td>\n      <td>-1.0</td>\n      <td>-0.999998</td>\n      <td>-1.002211</td>\n    </tr>\n    <tr>\n      <th>2</th>\n      <td>-7.054687e-08</td>\n      <td>-1.568507</td>\n      <td>-0.000029</td>\n      <td>0.042044</td>\n      <td>-7.054687e-08</td>\n      <td>-1.0</td>\n      <td>-0.999997</td>\n      <td>-1.002290</td>\n    </tr>\n    <tr>\n      <th>3</th>\n      <td>-1.633876e-07</td>\n      <td>-1.568375</td>\n      <td>-0.000046</td>\n      <td>0.063065</td>\n      <td>-1.633876e-07</td>\n      <td>-1.0</td>\n      <td>-0.999997</td>\n      <td>-1.002421</td>\n    </tr>\n    <tr>\n      <th>4</th>\n      <td>-3.020575e-07</td>\n      <td>-1.568191</td>\n      <td>-0.000066</td>\n      <td>0.084087</td>\n      <td>-3.020575e-07</td>\n      <td>-1.0</td>\n      <td>-0.999997</td>\n      <td>-1.002605</td>\n    </tr>\n  </tbody>\n</table>\n</div>"
     },
     "execution_count": 10,
     "metadata": {},
     "output_type": "execute_result"
    }
   ],
   "source": [
    "specific_simulation_data_two = simulation_data_dict_two[str(index_to_access)]  # keys will be in string format\n",
    "specific_compound_df = pd.DataFrame(specific_simulation_data_two)\n",
    "\n",
    "# Display the DataFrame for the specific simulation\n",
    "print(f\"Shape: {specific_compound_df.shape}\")\n",
    "specific_compound_df.head()"
   ],
   "metadata": {
    "collapsed": false,
    "ExecuteTime": {
     "end_time": "2024-02-18T22:03:21.162099Z",
     "start_time": "2024-02-18T22:03:21.117388Z"
    }
   },
   "id": "aada4e729f81233"
  }
 ],
 "metadata": {
  "kernelspec": {
   "display_name": "Python 3",
   "language": "python",
   "name": "python3"
  },
  "language_info": {
   "codemirror_mode": {
    "name": "ipython",
    "version": 2
   },
   "file_extension": ".py",
   "mimetype": "text/x-python",
   "name": "python",
   "nbconvert_exporter": "python",
   "pygments_lexer": "ipython2",
   "version": "2.7.6"
  }
 },
 "nbformat": 4,
 "nbformat_minor": 5
}
