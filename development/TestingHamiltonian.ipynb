{
 "cells": [
  {
   "cell_type": "code",
   "id": "initial_id",
   "metadata": {
    "collapsed": true,
    "ExecuteTime": {
     "end_time": "2024-08-02T18:58:11.282036Z",
     "start_time": "2024-08-02T18:58:09.756870Z"
    }
   },
   "source": [
    "import sympy as sp\n",
    "from HamiltonianFunctions2 import *\n",
    "from DoublePendulumRefactor import *"
   ],
   "outputs": [],
   "execution_count": 1
  },
  {
   "metadata": {},
   "cell_type": "markdown",
   "source": "## This is currently running the refactor `HamiltonianFunctions2.py`",
   "id": "9899d9c192c22994"
  },
  {
   "metadata": {
    "ExecuteTime": {
     "end_time": "2024-08-02T18:58:24.628245Z",
     "start_time": "2024-08-02T18:58:22.357453Z"
    }
   },
   "cell_type": "code",
   "source": "MAT = hamiltonian_system()",
   "id": "c14264ba058a8bf1",
   "outputs": [],
   "execution_count": 2
  },
  {
   "metadata": {
    "ExecuteTime": {
     "end_time": "2024-08-02T19:02:33.348889Z",
     "start_time": "2024-08-02T19:02:33.326517Z"
    }
   },
   "cell_type": "code",
   "source": "display(MAT.rhs[0])",
   "id": "814e9970e92cbd2d",
   "outputs": [
    {
     "data": {
      "text/plain": [
       "-m2*(2*l1*l2*cos(theta1(t) - theta2(t))*Derivative(theta1(t), t) + 2*l2**2*Derivative(theta2(t), t))*cos(theta1(t) - theta2(t))/(4*(l1*l2*m1 - l1*l2*m2*cos(theta1(t) - theta2(t))**2 + l1*l2*m2)) + (l1**2*m1*Derivative(theta1(t), t) + m2*(2*l1**2*Derivative(theta1(t), t) + 2*l1*l2*cos(theta1(t) - theta2(t))*Derivative(theta2(t), t))/2)/(2*(l1**2*m1 - l1**2*m2*cos(theta1(t) - theta2(t))**2 + l1**2*m2))"
      ],
      "text/latex": "$\\displaystyle - \\frac{m_{2} \\cdot \\left(2 l_{1} l_{2} \\cos{\\left(\\theta_{1}{\\left(t \\right)} - \\theta_{2}{\\left(t \\right)} \\right)} \\frac{d}{d t} \\theta_{1}{\\left(t \\right)} + 2 l_{2}^{2} \\frac{d}{d t} \\theta_{2}{\\left(t \\right)}\\right) \\cos{\\left(\\theta_{1}{\\left(t \\right)} - \\theta_{2}{\\left(t \\right)} \\right)}}{4 \\left(l_{1} l_{2} m_{1} - l_{1} l_{2} m_{2} \\cos^{2}{\\left(\\theta_{1}{\\left(t \\right)} - \\theta_{2}{\\left(t \\right)} \\right)} + l_{1} l_{2} m_{2}\\right)} + \\frac{l_{1}^{2} m_{1} \\frac{d}{d t} \\theta_{1}{\\left(t \\right)} + \\frac{m_{2} \\cdot \\left(2 l_{1}^{2} \\frac{d}{d t} \\theta_{1}{\\left(t \\right)} + 2 l_{1} l_{2} \\cos{\\left(\\theta_{1}{\\left(t \\right)} - \\theta_{2}{\\left(t \\right)} \\right)} \\frac{d}{d t} \\theta_{2}{\\left(t \\right)}\\right)}{2}}{2 \\left(l_{1}^{2} m_{1} - l_{1}^{2} m_{2} \\cos^{2}{\\left(\\theta_{1}{\\left(t \\right)} - \\theta_{2}{\\left(t \\right)} \\right)} + l_{1}^{2} m_{2}\\right)}$"
     },
     "metadata": {},
     "output_type": "display_data"
    }
   ],
   "execution_count": 5
  },
  {
   "metadata": {
    "ExecuteTime": {
     "end_time": "2024-08-02T19:02:53.800833Z",
     "start_time": "2024-08-02T19:02:53.779186Z"
    }
   },
   "cell_type": "code",
   "source": "display(MAT.rhs[1])",
   "id": "bc452b98a7c540b7",
   "outputs": [
    {
     "data": {
      "text/plain": [
       "m2*(m1 + m2)*(2*l1*l2*cos(theta1(t) - theta2(t))*Derivative(theta1(t), t) + 2*l2**2*Derivative(theta2(t), t))/(4*(l2**2*m1*m2 - l2**2*m2**2*cos(theta1(t) - theta2(t))**2 + l2**2*m2**2)) - (l1**2*m1*Derivative(theta1(t), t) + m2*(2*l1**2*Derivative(theta1(t), t) + 2*l1*l2*cos(theta1(t) - theta2(t))*Derivative(theta2(t), t))/2)*cos(theta1(t) - theta2(t))/(2*(l1*l2*m1 - l1*l2*m2*cos(theta1(t) - theta2(t))**2 + l1*l2*m2))"
      ],
      "text/latex": "$\\displaystyle \\frac{m_{2} \\left(m_{1} + m_{2}\\right) \\left(2 l_{1} l_{2} \\cos{\\left(\\theta_{1}{\\left(t \\right)} - \\theta_{2}{\\left(t \\right)} \\right)} \\frac{d}{d t} \\theta_{1}{\\left(t \\right)} + 2 l_{2}^{2} \\frac{d}{d t} \\theta_{2}{\\left(t \\right)}\\right)}{4 \\left(l_{2}^{2} m_{1} m_{2} - l_{2}^{2} m_{2}^{2} \\cos^{2}{\\left(\\theta_{1}{\\left(t \\right)} - \\theta_{2}{\\left(t \\right)} \\right)} + l_{2}^{2} m_{2}^{2}\\right)} - \\frac{\\left(l_{1}^{2} m_{1} \\frac{d}{d t} \\theta_{1}{\\left(t \\right)} + \\frac{m_{2} \\cdot \\left(2 l_{1}^{2} \\frac{d}{d t} \\theta_{1}{\\left(t \\right)} + 2 l_{1} l_{2} \\cos{\\left(\\theta_{1}{\\left(t \\right)} - \\theta_{2}{\\left(t \\right)} \\right)} \\frac{d}{d t} \\theta_{2}{\\left(t \\right)}\\right)}{2}\\right) \\cos{\\left(\\theta_{1}{\\left(t \\right)} - \\theta_{2}{\\left(t \\right)} \\right)}}{2 \\left(l_{1} l_{2} m_{1} - l_{1} l_{2} m_{2} \\cos^{2}{\\left(\\theta_{1}{\\left(t \\right)} - \\theta_{2}{\\left(t \\right)} \\right)} + l_{1} l_{2} m_{2}\\right)}$"
     },
     "metadata": {},
     "output_type": "display_data"
    }
   ],
   "execution_count": 6
  },
  {
   "metadata": {
    "ExecuteTime": {
     "end_time": "2024-08-02T19:03:15.324981Z",
     "start_time": "2024-08-02T19:03:15.263340Z"
    }
   },
   "cell_type": "code",
   "source": "display(MAT.rhs[2])",
   "id": "c5f4b94a57e581",
   "outputs": [
    {
     "data": {
      "text/plain": [
       "g*l1*(-m1 - m2)*sin(theta1(t)) - (-l1**2*m2*(l1**2*m1*Derivative(theta1(t), t) + m2*(2*l1**2*Derivative(theta1(t), t) + 2*l1*l2*cos(theta1(t) - theta2(t))*Derivative(theta2(t), t))/2)*sin(theta1(t) - theta2(t))*cos(theta1(t) - theta2(t))/(l1**2*m1 - l1**2*m2*cos(theta1(t) - theta2(t))**2 + l1**2*m2)**2 + l1*l2*m2**2*(2*l1*l2*cos(theta1(t) - theta2(t))*Derivative(theta1(t), t) + 2*l2**2*Derivative(theta2(t), t))*sin(theta1(t) - theta2(t))*cos(theta1(t) - theta2(t))**2/(2*(l1*l2*m1 - l1*l2*m2*cos(theta1(t) - theta2(t))**2 + l1*l2*m2)**2) + l1*l2*m2*sin(theta1(t) - theta2(t))*cos(theta1(t) - theta2(t))*Derivative(theta1(t), t)/(2*(l1*l2*m1 - l1*l2*m2*cos(theta1(t) - theta2(t))**2 + l1*l2*m2)) - l1*l2*m2*sin(theta1(t) - theta2(t))*Derivative(theta2(t), t)/(2*(l1**2*m1 - l1**2*m2*cos(theta1(t) - theta2(t))**2 + l1**2*m2)) + m2*(2*l1*l2*cos(theta1(t) - theta2(t))*Derivative(theta1(t), t) + 2*l2**2*Derivative(theta2(t), t))*sin(theta1(t) - theta2(t))/(4*(l1*l2*m1 - l1*l2*m2*cos(theta1(t) - theta2(t))**2 + l1*l2*m2)))*p_theta_1(t) - (-l1*l2*m2*(m1 + m2)*sin(theta1(t) - theta2(t))*Derivative(theta1(t), t)/(2*(l2**2*m1*m2 - l2**2*m2**2*cos(theta1(t) - theta2(t))**2 + l2**2*m2**2)) + l1*l2*m2*(l1**2*m1*Derivative(theta1(t), t) + m2*(2*l1**2*Derivative(theta1(t), t) + 2*l1*l2*cos(theta1(t) - theta2(t))*Derivative(theta2(t), t))/2)*sin(theta1(t) - theta2(t))*cos(theta1(t) - theta2(t))**2/(l1*l2*m1 - l1*l2*m2*cos(theta1(t) - theta2(t))**2 + l1*l2*m2)**2 + l1*l2*m2*sin(theta1(t) - theta2(t))*cos(theta1(t) - theta2(t))*Derivative(theta2(t), t)/(2*(l1*l2*m1 - l1*l2*m2*cos(theta1(t) - theta2(t))**2 + l1*l2*m2)) - l2**2*m2**3*(m1 + m2)*(2*l1*l2*cos(theta1(t) - theta2(t))*Derivative(theta1(t), t) + 2*l2**2*Derivative(theta2(t), t))*sin(theta1(t) - theta2(t))*cos(theta1(t) - theta2(t))/(2*(l2**2*m1*m2 - l2**2*m2**2*cos(theta1(t) - theta2(t))**2 + l2**2*m2**2)**2) + (l1**2*m1*Derivative(theta1(t), t) + m2*(2*l1**2*Derivative(theta1(t), t) + 2*l1*l2*cos(theta1(t) - theta2(t))*Derivative(theta2(t), t))/2)*sin(theta1(t) - theta2(t))/(2*(l1*l2*m1 - l1*l2*m2*cos(theta1(t) - theta2(t))**2 + l1*l2*m2)))*p_theta_2(t)"
      ],
      "text/latex": "$\\displaystyle g l_{1} \\left(- m_{1} - m_{2}\\right) \\sin{\\left(\\theta_{1}{\\left(t \\right)} \\right)} - \\left(- \\frac{l_{1}^{2} m_{2} \\left(l_{1}^{2} m_{1} \\frac{d}{d t} \\theta_{1}{\\left(t \\right)} + \\frac{m_{2} \\cdot \\left(2 l_{1}^{2} \\frac{d}{d t} \\theta_{1}{\\left(t \\right)} + 2 l_{1} l_{2} \\cos{\\left(\\theta_{1}{\\left(t \\right)} - \\theta_{2}{\\left(t \\right)} \\right)} \\frac{d}{d t} \\theta_{2}{\\left(t \\right)}\\right)}{2}\\right) \\sin{\\left(\\theta_{1}{\\left(t \\right)} - \\theta_{2}{\\left(t \\right)} \\right)} \\cos{\\left(\\theta_{1}{\\left(t \\right)} - \\theta_{2}{\\left(t \\right)} \\right)}}{\\left(l_{1}^{2} m_{1} - l_{1}^{2} m_{2} \\cos^{2}{\\left(\\theta_{1}{\\left(t \\right)} - \\theta_{2}{\\left(t \\right)} \\right)} + l_{1}^{2} m_{2}\\right)^{2}} + \\frac{l_{1} l_{2} m_{2}^{2} \\cdot \\left(2 l_{1} l_{2} \\cos{\\left(\\theta_{1}{\\left(t \\right)} - \\theta_{2}{\\left(t \\right)} \\right)} \\frac{d}{d t} \\theta_{1}{\\left(t \\right)} + 2 l_{2}^{2} \\frac{d}{d t} \\theta_{2}{\\left(t \\right)}\\right) \\sin{\\left(\\theta_{1}{\\left(t \\right)} - \\theta_{2}{\\left(t \\right)} \\right)} \\cos^{2}{\\left(\\theta_{1}{\\left(t \\right)} - \\theta_{2}{\\left(t \\right)} \\right)}}{2 \\left(l_{1} l_{2} m_{1} - l_{1} l_{2} m_{2} \\cos^{2}{\\left(\\theta_{1}{\\left(t \\right)} - \\theta_{2}{\\left(t \\right)} \\right)} + l_{1} l_{2} m_{2}\\right)^{2}} + \\frac{l_{1} l_{2} m_{2} \\sin{\\left(\\theta_{1}{\\left(t \\right)} - \\theta_{2}{\\left(t \\right)} \\right)} \\cos{\\left(\\theta_{1}{\\left(t \\right)} - \\theta_{2}{\\left(t \\right)} \\right)} \\frac{d}{d t} \\theta_{1}{\\left(t \\right)}}{2 \\left(l_{1} l_{2} m_{1} - l_{1} l_{2} m_{2} \\cos^{2}{\\left(\\theta_{1}{\\left(t \\right)} - \\theta_{2}{\\left(t \\right)} \\right)} + l_{1} l_{2} m_{2}\\right)} - \\frac{l_{1} l_{2} m_{2} \\sin{\\left(\\theta_{1}{\\left(t \\right)} - \\theta_{2}{\\left(t \\right)} \\right)} \\frac{d}{d t} \\theta_{2}{\\left(t \\right)}}{2 \\left(l_{1}^{2} m_{1} - l_{1}^{2} m_{2} \\cos^{2}{\\left(\\theta_{1}{\\left(t \\right)} - \\theta_{2}{\\left(t \\right)} \\right)} + l_{1}^{2} m_{2}\\right)} + \\frac{m_{2} \\cdot \\left(2 l_{1} l_{2} \\cos{\\left(\\theta_{1}{\\left(t \\right)} - \\theta_{2}{\\left(t \\right)} \\right)} \\frac{d}{d t} \\theta_{1}{\\left(t \\right)} + 2 l_{2}^{2} \\frac{d}{d t} \\theta_{2}{\\left(t \\right)}\\right) \\sin{\\left(\\theta_{1}{\\left(t \\right)} - \\theta_{2}{\\left(t \\right)} \\right)}}{4 \\left(l_{1} l_{2} m_{1} - l_{1} l_{2} m_{2} \\cos^{2}{\\left(\\theta_{1}{\\left(t \\right)} - \\theta_{2}{\\left(t \\right)} \\right)} + l_{1} l_{2} m_{2}\\right)}\\right) \\operatorname{p_{\\theta 1}}{\\left(t \\right)} - \\left(- \\frac{l_{1} l_{2} m_{2} \\left(m_{1} + m_{2}\\right) \\sin{\\left(\\theta_{1}{\\left(t \\right)} - \\theta_{2}{\\left(t \\right)} \\right)} \\frac{d}{d t} \\theta_{1}{\\left(t \\right)}}{2 \\left(l_{2}^{2} m_{1} m_{2} - l_{2}^{2} m_{2}^{2} \\cos^{2}{\\left(\\theta_{1}{\\left(t \\right)} - \\theta_{2}{\\left(t \\right)} \\right)} + l_{2}^{2} m_{2}^{2}\\right)} + \\frac{l_{1} l_{2} m_{2} \\left(l_{1}^{2} m_{1} \\frac{d}{d t} \\theta_{1}{\\left(t \\right)} + \\frac{m_{2} \\cdot \\left(2 l_{1}^{2} \\frac{d}{d t} \\theta_{1}{\\left(t \\right)} + 2 l_{1} l_{2} \\cos{\\left(\\theta_{1}{\\left(t \\right)} - \\theta_{2}{\\left(t \\right)} \\right)} \\frac{d}{d t} \\theta_{2}{\\left(t \\right)}\\right)}{2}\\right) \\sin{\\left(\\theta_{1}{\\left(t \\right)} - \\theta_{2}{\\left(t \\right)} \\right)} \\cos^{2}{\\left(\\theta_{1}{\\left(t \\right)} - \\theta_{2}{\\left(t \\right)} \\right)}}{\\left(l_{1} l_{2} m_{1} - l_{1} l_{2} m_{2} \\cos^{2}{\\left(\\theta_{1}{\\left(t \\right)} - \\theta_{2}{\\left(t \\right)} \\right)} + l_{1} l_{2} m_{2}\\right)^{2}} + \\frac{l_{1} l_{2} m_{2} \\sin{\\left(\\theta_{1}{\\left(t \\right)} - \\theta_{2}{\\left(t \\right)} \\right)} \\cos{\\left(\\theta_{1}{\\left(t \\right)} - \\theta_{2}{\\left(t \\right)} \\right)} \\frac{d}{d t} \\theta_{2}{\\left(t \\right)}}{2 \\left(l_{1} l_{2} m_{1} - l_{1} l_{2} m_{2} \\cos^{2}{\\left(\\theta_{1}{\\left(t \\right)} - \\theta_{2}{\\left(t \\right)} \\right)} + l_{1} l_{2} m_{2}\\right)} - \\frac{l_{2}^{2} m_{2}^{3} \\left(m_{1} + m_{2}\\right) \\left(2 l_{1} l_{2} \\cos{\\left(\\theta_{1}{\\left(t \\right)} - \\theta_{2}{\\left(t \\right)} \\right)} \\frac{d}{d t} \\theta_{1}{\\left(t \\right)} + 2 l_{2}^{2} \\frac{d}{d t} \\theta_{2}{\\left(t \\right)}\\right) \\sin{\\left(\\theta_{1}{\\left(t \\right)} - \\theta_{2}{\\left(t \\right)} \\right)} \\cos{\\left(\\theta_{1}{\\left(t \\right)} - \\theta_{2}{\\left(t \\right)} \\right)}}{2 \\left(l_{2}^{2} m_{1} m_{2} - l_{2}^{2} m_{2}^{2} \\cos^{2}{\\left(\\theta_{1}{\\left(t \\right)} - \\theta_{2}{\\left(t \\right)} \\right)} + l_{2}^{2} m_{2}^{2}\\right)^{2}} + \\frac{\\left(l_{1}^{2} m_{1} \\frac{d}{d t} \\theta_{1}{\\left(t \\right)} + \\frac{m_{2} \\cdot \\left(2 l_{1}^{2} \\frac{d}{d t} \\theta_{1}{\\left(t \\right)} + 2 l_{1} l_{2} \\cos{\\left(\\theta_{1}{\\left(t \\right)} - \\theta_{2}{\\left(t \\right)} \\right)} \\frac{d}{d t} \\theta_{2}{\\left(t \\right)}\\right)}{2}\\right) \\sin{\\left(\\theta_{1}{\\left(t \\right)} - \\theta_{2}{\\left(t \\right)} \\right)}}{2 \\left(l_{1} l_{2} m_{1} - l_{1} l_{2} m_{2} \\cos^{2}{\\left(\\theta_{1}{\\left(t \\right)} - \\theta_{2}{\\left(t \\right)} \\right)} + l_{1} l_{2} m_{2}\\right)}\\right) \\operatorname{p_{\\theta 2}}{\\left(t \\right)}$"
     },
     "metadata": {},
     "output_type": "display_data"
    }
   ],
   "execution_count": 7
  },
  {
   "metadata": {
    "ExecuteTime": {
     "end_time": "2024-08-02T19:03:26.196698Z",
     "start_time": "2024-08-02T19:03:26.131780Z"
    }
   },
   "cell_type": "code",
   "source": "display(MAT.rhs[3])",
   "id": "d86f48f15ed85f2d",
   "outputs": [
    {
     "data": {
      "text/plain": [
       "-g*l2*m2*sin(theta2(t)) - (l1**2*m2*(l1**2*m1*Derivative(theta1(t), t) + m2*(2*l1**2*Derivative(theta1(t), t) + 2*l1*l2*cos(theta1(t) - theta2(t))*Derivative(theta2(t), t))/2)*sin(theta1(t) - theta2(t))*cos(theta1(t) - theta2(t))/(l1**2*m1 - l1**2*m2*cos(theta1(t) - theta2(t))**2 + l1**2*m2)**2 - l1*l2*m2**2*(2*l1*l2*cos(theta1(t) - theta2(t))*Derivative(theta1(t), t) + 2*l2**2*Derivative(theta2(t), t))*sin(theta1(t) - theta2(t))*cos(theta1(t) - theta2(t))**2/(2*(l1*l2*m1 - l1*l2*m2*cos(theta1(t) - theta2(t))**2 + l1*l2*m2)**2) - l1*l2*m2*sin(theta1(t) - theta2(t))*cos(theta1(t) - theta2(t))*Derivative(theta1(t), t)/(2*(l1*l2*m1 - l1*l2*m2*cos(theta1(t) - theta2(t))**2 + l1*l2*m2)) + l1*l2*m2*sin(theta1(t) - theta2(t))*Derivative(theta2(t), t)/(2*(l1**2*m1 - l1**2*m2*cos(theta1(t) - theta2(t))**2 + l1**2*m2)) - m2*(2*l1*l2*cos(theta1(t) - theta2(t))*Derivative(theta1(t), t) + 2*l2**2*Derivative(theta2(t), t))*sin(theta1(t) - theta2(t))/(4*(l1*l2*m1 - l1*l2*m2*cos(theta1(t) - theta2(t))**2 + l1*l2*m2)))*p_theta_1(t) - (l1*l2*m2*(m1 + m2)*sin(theta1(t) - theta2(t))*Derivative(theta1(t), t)/(2*(l2**2*m1*m2 - l2**2*m2**2*cos(theta1(t) - theta2(t))**2 + l2**2*m2**2)) - l1*l2*m2*(l1**2*m1*Derivative(theta1(t), t) + m2*(2*l1**2*Derivative(theta1(t), t) + 2*l1*l2*cos(theta1(t) - theta2(t))*Derivative(theta2(t), t))/2)*sin(theta1(t) - theta2(t))*cos(theta1(t) - theta2(t))**2/(l1*l2*m1 - l1*l2*m2*cos(theta1(t) - theta2(t))**2 + l1*l2*m2)**2 - l1*l2*m2*sin(theta1(t) - theta2(t))*cos(theta1(t) - theta2(t))*Derivative(theta2(t), t)/(2*(l1*l2*m1 - l1*l2*m2*cos(theta1(t) - theta2(t))**2 + l1*l2*m2)) + l2**2*m2**3*(m1 + m2)*(2*l1*l2*cos(theta1(t) - theta2(t))*Derivative(theta1(t), t) + 2*l2**2*Derivative(theta2(t), t))*sin(theta1(t) - theta2(t))*cos(theta1(t) - theta2(t))/(2*(l2**2*m1*m2 - l2**2*m2**2*cos(theta1(t) - theta2(t))**2 + l2**2*m2**2)**2) - (l1**2*m1*Derivative(theta1(t), t) + m2*(2*l1**2*Derivative(theta1(t), t) + 2*l1*l2*cos(theta1(t) - theta2(t))*Derivative(theta2(t), t))/2)*sin(theta1(t) - theta2(t))/(2*(l1*l2*m1 - l1*l2*m2*cos(theta1(t) - theta2(t))**2 + l1*l2*m2)))*p_theta_2(t)"
      ],
      "text/latex": "$\\displaystyle - g l_{2} m_{2} \\sin{\\left(\\theta_{2}{\\left(t \\right)} \\right)} - \\left(\\frac{l_{1}^{2} m_{2} \\left(l_{1}^{2} m_{1} \\frac{d}{d t} \\theta_{1}{\\left(t \\right)} + \\frac{m_{2} \\cdot \\left(2 l_{1}^{2} \\frac{d}{d t} \\theta_{1}{\\left(t \\right)} + 2 l_{1} l_{2} \\cos{\\left(\\theta_{1}{\\left(t \\right)} - \\theta_{2}{\\left(t \\right)} \\right)} \\frac{d}{d t} \\theta_{2}{\\left(t \\right)}\\right)}{2}\\right) \\sin{\\left(\\theta_{1}{\\left(t \\right)} - \\theta_{2}{\\left(t \\right)} \\right)} \\cos{\\left(\\theta_{1}{\\left(t \\right)} - \\theta_{2}{\\left(t \\right)} \\right)}}{\\left(l_{1}^{2} m_{1} - l_{1}^{2} m_{2} \\cos^{2}{\\left(\\theta_{1}{\\left(t \\right)} - \\theta_{2}{\\left(t \\right)} \\right)} + l_{1}^{2} m_{2}\\right)^{2}} - \\frac{l_{1} l_{2} m_{2}^{2} \\cdot \\left(2 l_{1} l_{2} \\cos{\\left(\\theta_{1}{\\left(t \\right)} - \\theta_{2}{\\left(t \\right)} \\right)} \\frac{d}{d t} \\theta_{1}{\\left(t \\right)} + 2 l_{2}^{2} \\frac{d}{d t} \\theta_{2}{\\left(t \\right)}\\right) \\sin{\\left(\\theta_{1}{\\left(t \\right)} - \\theta_{2}{\\left(t \\right)} \\right)} \\cos^{2}{\\left(\\theta_{1}{\\left(t \\right)} - \\theta_{2}{\\left(t \\right)} \\right)}}{2 \\left(l_{1} l_{2} m_{1} - l_{1} l_{2} m_{2} \\cos^{2}{\\left(\\theta_{1}{\\left(t \\right)} - \\theta_{2}{\\left(t \\right)} \\right)} + l_{1} l_{2} m_{2}\\right)^{2}} - \\frac{l_{1} l_{2} m_{2} \\sin{\\left(\\theta_{1}{\\left(t \\right)} - \\theta_{2}{\\left(t \\right)} \\right)} \\cos{\\left(\\theta_{1}{\\left(t \\right)} - \\theta_{2}{\\left(t \\right)} \\right)} \\frac{d}{d t} \\theta_{1}{\\left(t \\right)}}{2 \\left(l_{1} l_{2} m_{1} - l_{1} l_{2} m_{2} \\cos^{2}{\\left(\\theta_{1}{\\left(t \\right)} - \\theta_{2}{\\left(t \\right)} \\right)} + l_{1} l_{2} m_{2}\\right)} + \\frac{l_{1} l_{2} m_{2} \\sin{\\left(\\theta_{1}{\\left(t \\right)} - \\theta_{2}{\\left(t \\right)} \\right)} \\frac{d}{d t} \\theta_{2}{\\left(t \\right)}}{2 \\left(l_{1}^{2} m_{1} - l_{1}^{2} m_{2} \\cos^{2}{\\left(\\theta_{1}{\\left(t \\right)} - \\theta_{2}{\\left(t \\right)} \\right)} + l_{1}^{2} m_{2}\\right)} - \\frac{m_{2} \\cdot \\left(2 l_{1} l_{2} \\cos{\\left(\\theta_{1}{\\left(t \\right)} - \\theta_{2}{\\left(t \\right)} \\right)} \\frac{d}{d t} \\theta_{1}{\\left(t \\right)} + 2 l_{2}^{2} \\frac{d}{d t} \\theta_{2}{\\left(t \\right)}\\right) \\sin{\\left(\\theta_{1}{\\left(t \\right)} - \\theta_{2}{\\left(t \\right)} \\right)}}{4 \\left(l_{1} l_{2} m_{1} - l_{1} l_{2} m_{2} \\cos^{2}{\\left(\\theta_{1}{\\left(t \\right)} - \\theta_{2}{\\left(t \\right)} \\right)} + l_{1} l_{2} m_{2}\\right)}\\right) \\operatorname{p_{\\theta 1}}{\\left(t \\right)} - \\left(\\frac{l_{1} l_{2} m_{2} \\left(m_{1} + m_{2}\\right) \\sin{\\left(\\theta_{1}{\\left(t \\right)} - \\theta_{2}{\\left(t \\right)} \\right)} \\frac{d}{d t} \\theta_{1}{\\left(t \\right)}}{2 \\left(l_{2}^{2} m_{1} m_{2} - l_{2}^{2} m_{2}^{2} \\cos^{2}{\\left(\\theta_{1}{\\left(t \\right)} - \\theta_{2}{\\left(t \\right)} \\right)} + l_{2}^{2} m_{2}^{2}\\right)} - \\frac{l_{1} l_{2} m_{2} \\left(l_{1}^{2} m_{1} \\frac{d}{d t} \\theta_{1}{\\left(t \\right)} + \\frac{m_{2} \\cdot \\left(2 l_{1}^{2} \\frac{d}{d t} \\theta_{1}{\\left(t \\right)} + 2 l_{1} l_{2} \\cos{\\left(\\theta_{1}{\\left(t \\right)} - \\theta_{2}{\\left(t \\right)} \\right)} \\frac{d}{d t} \\theta_{2}{\\left(t \\right)}\\right)}{2}\\right) \\sin{\\left(\\theta_{1}{\\left(t \\right)} - \\theta_{2}{\\left(t \\right)} \\right)} \\cos^{2}{\\left(\\theta_{1}{\\left(t \\right)} - \\theta_{2}{\\left(t \\right)} \\right)}}{\\left(l_{1} l_{2} m_{1} - l_{1} l_{2} m_{2} \\cos^{2}{\\left(\\theta_{1}{\\left(t \\right)} - \\theta_{2}{\\left(t \\right)} \\right)} + l_{1} l_{2} m_{2}\\right)^{2}} - \\frac{l_{1} l_{2} m_{2} \\sin{\\left(\\theta_{1}{\\left(t \\right)} - \\theta_{2}{\\left(t \\right)} \\right)} \\cos{\\left(\\theta_{1}{\\left(t \\right)} - \\theta_{2}{\\left(t \\right)} \\right)} \\frac{d}{d t} \\theta_{2}{\\left(t \\right)}}{2 \\left(l_{1} l_{2} m_{1} - l_{1} l_{2} m_{2} \\cos^{2}{\\left(\\theta_{1}{\\left(t \\right)} - \\theta_{2}{\\left(t \\right)} \\right)} + l_{1} l_{2} m_{2}\\right)} + \\frac{l_{2}^{2} m_{2}^{3} \\left(m_{1} + m_{2}\\right) \\left(2 l_{1} l_{2} \\cos{\\left(\\theta_{1}{\\left(t \\right)} - \\theta_{2}{\\left(t \\right)} \\right)} \\frac{d}{d t} \\theta_{1}{\\left(t \\right)} + 2 l_{2}^{2} \\frac{d}{d t} \\theta_{2}{\\left(t \\right)}\\right) \\sin{\\left(\\theta_{1}{\\left(t \\right)} - \\theta_{2}{\\left(t \\right)} \\right)} \\cos{\\left(\\theta_{1}{\\left(t \\right)} - \\theta_{2}{\\left(t \\right)} \\right)}}{2 \\left(l_{2}^{2} m_{1} m_{2} - l_{2}^{2} m_{2}^{2} \\cos^{2}{\\left(\\theta_{1}{\\left(t \\right)} - \\theta_{2}{\\left(t \\right)} \\right)} + l_{2}^{2} m_{2}^{2}\\right)^{2}} - \\frac{\\left(l_{1}^{2} m_{1} \\frac{d}{d t} \\theta_{1}{\\left(t \\right)} + \\frac{m_{2} \\cdot \\left(2 l_{1}^{2} \\frac{d}{d t} \\theta_{1}{\\left(t \\right)} + 2 l_{1} l_{2} \\cos{\\left(\\theta_{1}{\\left(t \\right)} - \\theta_{2}{\\left(t \\right)} \\right)} \\frac{d}{d t} \\theta_{2}{\\left(t \\right)}\\right)}{2}\\right) \\sin{\\left(\\theta_{1}{\\left(t \\right)} - \\theta_{2}{\\left(t \\right)} \\right)}}{2 \\left(l_{1} l_{2} m_{1} - l_{1} l_{2} m_{2} \\cos^{2}{\\left(\\theta_{1}{\\left(t \\right)} - \\theta_{2}{\\left(t \\right)} \\right)} + l_{1} l_{2} m_{2}\\right)}\\right) \\operatorname{p_{\\theta 2}}{\\left(t \\right)}$"
     },
     "metadata": {},
     "output_type": "display_data"
    }
   ],
   "execution_count": 8
  },
  {
   "metadata": {},
   "cell_type": "markdown",
   "source": "Not too sure about these...",
   "id": "56eb55299d353440"
  }
 ],
 "metadata": {
  "kernelspec": {
   "display_name": "Python 3",
   "language": "python",
   "name": "python3"
  },
  "language_info": {
   "codemirror_mode": {
    "name": "ipython",
    "version": 2
   },
   "file_extension": ".py",
   "mimetype": "text/x-python",
   "name": "python",
   "nbconvert_exporter": "python",
   "pygments_lexer": "ipython2",
   "version": "2.7.6"
  }
 },
 "nbformat": 4,
 "nbformat_minor": 5
}
