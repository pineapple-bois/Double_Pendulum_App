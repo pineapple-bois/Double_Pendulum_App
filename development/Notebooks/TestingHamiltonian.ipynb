{
 "cells": [
  {
   "metadata": {},
   "cell_type": "markdown",
   "source": "## Testing equations defined in `HamiltonianFunctions.py`",
   "id": "a44dfae5f33ec945"
  },
  {
   "cell_type": "code",
   "id": "initial_id",
   "metadata": {
    "collapsed": true,
    "ExecuteTime": {
     "end_time": "2024-08-03T09:57:31.133586Z",
     "start_time": "2024-08-03T09:57:29.743599Z"
    }
   },
   "source": [
    "import sympy as sp\n",
    "from HamiltonianFunctions import *\n",
    "from DoublePendulumRefactor import *"
   ],
   "outputs": [],
   "execution_count": 1
  },
  {
   "metadata": {
    "ExecuteTime": {
     "end_time": "2024-08-03T09:57:36.304904Z",
     "start_time": "2024-08-03T09:57:32.964977Z"
    }
   },
   "cell_type": "code",
   "source": "MAT, eq1, eq2, eq3, eq4 = hamiltonian_first_order_system()",
   "id": "c14264ba058a8bf1",
   "outputs": [],
   "execution_count": 2
  },
  {
   "metadata": {
    "ExecuteTime": {
     "end_time": "2024-08-03T09:57:37.964285Z",
     "start_time": "2024-08-03T09:57:37.917020Z"
    }
   },
   "cell_type": "code",
   "source": "display(MAT)",
   "id": "745366ba364eb71d",
   "outputs": [
    {
     "data": {
      "text/plain": [
       "Eq(Matrix([\n",
       "[   Derivative(theta1(t), t)],\n",
       "[   Derivative(theta2(t), t)],\n",
       "[Derivative(p_theta_1(t), t)],\n",
       "[Derivative(p_theta_2(t), t)]]), Matrix([\n",
       "[                                                                                                                                                                                                                                                               (-2*l1*l2*m2*p_theta_2(t)*cos(theta1(t) - theta2(t)) + 2*l2**2*m2*p_theta_1(t))/(2*l1**2*l2**2*m2*(m1 + m2*sin(theta1(t) - theta2(t))**2))],\n",
       "[                                                                                                                                                                                                                                      (2*l1**2*m1*p_theta_2(t) + 2*l1**2*m2*p_theta_2(t) - 2*l1*l2*m2*p_theta_1(t)*cos(theta1(t) - theta2(t)))/(2*l1**2*l2**2*m2*(m1 + m2*sin(theta1(t) - theta2(t))**2))],\n",
       "[g*l1*(-m1 - m2)*sin(theta1(t)) - p_theta_1(t)*p_theta_2(t)*sin(theta1(t) - theta2(t))/(l1*l2*(m1 + m2*sin(theta1(t) - theta2(t))**2)) + (l1**2*m1*p_theta_2(t)**2 + l1**2*m2*p_theta_2(t)**2 - 2*l1*l2*m2*p_theta_1(t)*p_theta_2(t)*cos(theta1(t) - theta2(t)) + l2**2*m2*p_theta_1(t)**2)*sin(theta1(t) - theta2(t))*cos(theta1(t) - theta2(t))/(l1**2*l2**2*(m1 + m2*sin(theta1(t) - theta2(t))**2)**2)],\n",
       "[       -g*l2*m2*sin(theta2(t)) + p_theta_1(t)*p_theta_2(t)*sin(theta1(t) - theta2(t))/(l1*l2*(m1 + m2*sin(theta1(t) - theta2(t))**2)) - (l1**2*m1*p_theta_2(t)**2 + l1**2*m2*p_theta_2(t)**2 - 2*l1*l2*m2*p_theta_1(t)*p_theta_2(t)*cos(theta1(t) - theta2(t)) + l2**2*m2*p_theta_1(t)**2)*sin(theta1(t) - theta2(t))*cos(theta1(t) - theta2(t))/(l1**2*l2**2*(m1 + m2*sin(theta1(t) - theta2(t))**2)**2)]]))"
      ],
      "text/latex": "$\\displaystyle \\left[\\begin{matrix}\\frac{d}{d t} \\theta_{1}{\\left(t \\right)}\\\\\\frac{d}{d t} \\theta_{2}{\\left(t \\right)}\\\\\\frac{d}{d t} \\operatorname{p_{\\theta 1}}{\\left(t \\right)}\\\\\\frac{d}{d t} \\operatorname{p_{\\theta 2}}{\\left(t \\right)}\\end{matrix}\\right] = \\left[\\begin{matrix}\\frac{- 2 l_{1} l_{2} m_{2} \\operatorname{p_{\\theta 2}}{\\left(t \\right)} \\cos{\\left(\\theta_{1}{\\left(t \\right)} - \\theta_{2}{\\left(t \\right)} \\right)} + 2 l_{2}^{2} m_{2} \\operatorname{p_{\\theta 1}}{\\left(t \\right)}}{2 l_{1}^{2} l_{2}^{2} m_{2} \\left(m_{1} + m_{2} \\sin^{2}{\\left(\\theta_{1}{\\left(t \\right)} - \\theta_{2}{\\left(t \\right)} \\right)}\\right)}\\\\\\frac{2 l_{1}^{2} m_{1} \\operatorname{p_{\\theta 2}}{\\left(t \\right)} + 2 l_{1}^{2} m_{2} \\operatorname{p_{\\theta 2}}{\\left(t \\right)} - 2 l_{1} l_{2} m_{2} \\operatorname{p_{\\theta 1}}{\\left(t \\right)} \\cos{\\left(\\theta_{1}{\\left(t \\right)} - \\theta_{2}{\\left(t \\right)} \\right)}}{2 l_{1}^{2} l_{2}^{2} m_{2} \\left(m_{1} + m_{2} \\sin^{2}{\\left(\\theta_{1}{\\left(t \\right)} - \\theta_{2}{\\left(t \\right)} \\right)}\\right)}\\\\g l_{1} \\left(- m_{1} - m_{2}\\right) \\sin{\\left(\\theta_{1}{\\left(t \\right)} \\right)} - \\frac{\\operatorname{p_{\\theta 1}}{\\left(t \\right)} \\operatorname{p_{\\theta 2}}{\\left(t \\right)} \\sin{\\left(\\theta_{1}{\\left(t \\right)} - \\theta_{2}{\\left(t \\right)} \\right)}}{l_{1} l_{2} \\left(m_{1} + m_{2} \\sin^{2}{\\left(\\theta_{1}{\\left(t \\right)} - \\theta_{2}{\\left(t \\right)} \\right)}\\right)} + \\frac{\\left(l_{1}^{2} m_{1} \\operatorname{p_{\\theta 2}}^{2}{\\left(t \\right)} + l_{1}^{2} m_{2} \\operatorname{p_{\\theta 2}}^{2}{\\left(t \\right)} - 2 l_{1} l_{2} m_{2} \\operatorname{p_{\\theta 1}}{\\left(t \\right)} \\operatorname{p_{\\theta 2}}{\\left(t \\right)} \\cos{\\left(\\theta_{1}{\\left(t \\right)} - \\theta_{2}{\\left(t \\right)} \\right)} + l_{2}^{2} m_{2} \\operatorname{p_{\\theta 1}}^{2}{\\left(t \\right)}\\right) \\sin{\\left(\\theta_{1}{\\left(t \\right)} - \\theta_{2}{\\left(t \\right)} \\right)} \\cos{\\left(\\theta_{1}{\\left(t \\right)} - \\theta_{2}{\\left(t \\right)} \\right)}}{l_{1}^{2} l_{2}^{2} \\left(m_{1} + m_{2} \\sin^{2}{\\left(\\theta_{1}{\\left(t \\right)} - \\theta_{2}{\\left(t \\right)} \\right)}\\right)^{2}}\\\\- g l_{2} m_{2} \\sin{\\left(\\theta_{2}{\\left(t \\right)} \\right)} + \\frac{\\operatorname{p_{\\theta 1}}{\\left(t \\right)} \\operatorname{p_{\\theta 2}}{\\left(t \\right)} \\sin{\\left(\\theta_{1}{\\left(t \\right)} - \\theta_{2}{\\left(t \\right)} \\right)}}{l_{1} l_{2} \\left(m_{1} + m_{2} \\sin^{2}{\\left(\\theta_{1}{\\left(t \\right)} - \\theta_{2}{\\left(t \\right)} \\right)}\\right)} - \\frac{\\left(l_{1}^{2} m_{1} \\operatorname{p_{\\theta 2}}^{2}{\\left(t \\right)} + l_{1}^{2} m_{2} \\operatorname{p_{\\theta 2}}^{2}{\\left(t \\right)} - 2 l_{1} l_{2} m_{2} \\operatorname{p_{\\theta 1}}{\\left(t \\right)} \\operatorname{p_{\\theta 2}}{\\left(t \\right)} \\cos{\\left(\\theta_{1}{\\left(t \\right)} - \\theta_{2}{\\left(t \\right)} \\right)} + l_{2}^{2} m_{2} \\operatorname{p_{\\theta 1}}^{2}{\\left(t \\right)}\\right) \\sin{\\left(\\theta_{1}{\\left(t \\right)} - \\theta_{2}{\\left(t \\right)} \\right)} \\cos{\\left(\\theta_{1}{\\left(t \\right)} - \\theta_{2}{\\left(t \\right)} \\right)}}{l_{1}^{2} l_{2}^{2} \\left(m_{1} + m_{2} \\sin^{2}{\\left(\\theta_{1}{\\left(t \\right)} - \\theta_{2}{\\left(t \\right)} \\right)}\\right)^{2}}\\end{matrix}\\right]$"
     },
     "metadata": {},
     "output_type": "display_data"
    }
   ],
   "execution_count": 3
  },
  {
   "metadata": {},
   "cell_type": "code",
   "outputs": [],
   "execution_count": null,
   "source": "",
   "id": "2f4eac395c81a34c"
  }
 ],
 "metadata": {
  "kernelspec": {
   "display_name": "Python 3",
   "language": "python",
   "name": "python3"
  },
  "language_info": {
   "codemirror_mode": {
    "name": "ipython",
    "version": 2
   },
   "file_extension": ".py",
   "mimetype": "text/x-python",
   "name": "python",
   "nbconvert_exporter": "python",
   "pygments_lexer": "ipython2",
   "version": "2.7.6"
  }
 },
 "nbformat": 4,
 "nbformat_minor": 5
}
