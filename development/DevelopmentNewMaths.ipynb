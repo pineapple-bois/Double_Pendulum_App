{
 "cells": [
  {
   "cell_type": "markdown",
   "source": [
    "# Deriving the Hamiltonian"
   ],
   "metadata": {
    "collapsed": false
   },
   "id": "7a8721ea8371ca1d"
  },
  {
   "cell_type": "code",
   "execution_count": 1,
   "id": "initial_id",
   "metadata": {
    "collapsed": true,
    "ExecuteTime": {
     "end_time": "2024-02-18T22:33:16.583358Z",
     "start_time": "2024-02-18T22:33:16.397485Z"
    }
   },
   "outputs": [],
   "source": [
    "import sympy as sp\n",
    "from MathFunctions import *"
   ]
  },
  {
   "cell_type": "markdown",
   "source": [
    "To derive the Hamiltonian $H$ from the Lagrangian $L$ for a double pendulum system, \n",
    "\n",
    "- identify the system's generalized coordinates and their velocities. In this case, the generalized coordinates are $\\theta_1$ and $\\theta_2$, which represent the angles of the two pendulum arms with respect to the vertical, and their time derivatives $\\dot{\\theta}_1$ and $\\dot{\\theta}_2$ represent the angular velocities.\n",
    "\n",
    "The conjugate momenta $p_{\\theta_1}$ and $p_{\\theta_2}$ associated with these coordinates are given by:\n",
    "\n",
    "$$\n",
    "p_{\\theta_1} = \\frac{\\partial L}{\\partial \\dot{\\theta}_1}\n",
    "$$\n",
    "\n",
    "$$\n",
    "p_{\\theta_2} = \\frac{\\partial L}{\\partial \\dot{\\theta}_2}\n",
    "$$\n",
    "\n",
    "The Hamiltonian $H$, representing the total energy of the system, is the Legendre transform of the Lagrangian, and is given by:\n",
    "\n",
    "$$\n",
    "H = \\sum_{i} p_i \\dot{q_i} - L\n",
    "$$\n",
    "\n",
    "Substituting the expressions for $p_{\\theta_1}$, $p_{\\theta_2}$, $\\dot{\\theta}_1$, and $\\dot{\\theta}_2$ into this equation gives:\n",
    "\n",
    "$$\n",
    "H = p_{\\theta_1} \\dot{\\theta}_1 + p_{\\theta_2} \\dot{\\theta}_2 - L(\\theta_1, \\dot{\\theta}_1, \\theta_2, \\dot{\\theta}_2)\n",
    "$$\n",
    "\n",
    "To obtain $H$ explicitly, we need to solve the expressions for $p_{\\theta_1}$ and $p_{\\theta_2}$ for $\\dot{\\theta}_1$ and $\\dot{\\theta}_2$ respectively and then substitute these, along with the expressions for $p_{\\theta_1}$ and $p_{\\theta_2}$, back into the formula for $H$.\n",
    "\n",
    "The resulting Hamiltonian will be a function of $\\theta_1$, $p_{\\theta_1}$, $\\theta_2$, and $p_{\\theta_2}$, and will represent the total kinetic and potential energy of the system. This Hamiltonian can then be used to study the system's dynamics, particularly for energy-based analyses like plotting the Poincaré return section.\n"
   ],
   "metadata": {
    "collapsed": false
   },
   "id": "3c725417145df3c7"
  },
  {
   "cell_type": "code",
   "execution_count": 2,
   "outputs": [
    {
     "data": {
      "text/plain": "g*(l1*m1*cos(theta1(t)) + l1*m2*cos(theta1(t)) + l2*m2*cos(theta2(t))) + l1**2*m1*Derivative(theta1(t), t)**2/2 + m2*(l1**2*Derivative(theta1(t), t)**2 + 2*l1*l2*cos(theta1(t) - theta2(t))*Derivative(theta1(t), t)*Derivative(theta2(t), t) + l2**2*Derivative(theta2(t), t)**2)/2",
      "text/latex": "$\\displaystyle g \\left(l_{1} m_{1} \\cos{\\left(\\theta_{1}{\\left(t \\right)} \\right)} + l_{1} m_{2} \\cos{\\left(\\theta_{1}{\\left(t \\right)} \\right)} + l_{2} m_{2} \\cos{\\left(\\theta_{2}{\\left(t \\right)} \\right)}\\right) + \\frac{l_{1}^{2} m_{1} \\left(\\frac{d}{d t} \\theta_{1}{\\left(t \\right)}\\right)^{2}}{2} + \\frac{m_{2} \\left(l_{1}^{2} \\left(\\frac{d}{d t} \\theta_{1}{\\left(t \\right)}\\right)^{2} + 2 l_{1} l_{2} \\cos{\\left(\\theta_{1}{\\left(t \\right)} - \\theta_{2}{\\left(t \\right)} \\right)} \\frac{d}{d t} \\theta_{1}{\\left(t \\right)} \\frac{d}{d t} \\theta_{2}{\\left(t \\right)} + l_{2}^{2} \\left(\\frac{d}{d t} \\theta_{2}{\\left(t \\right)}\\right)^{2}\\right)}{2}$"
     },
     "metadata": {},
     "output_type": "display_data"
    }
   ],
   "source": [
    "## Starting from the Lagrangian of the system\n",
    "\n",
    "L = form_lagrangian('simple')\n",
    "display(L)"
   ],
   "metadata": {
    "collapsed": false,
    "ExecuteTime": {
     "end_time": "2024-02-17T13:57:59.850670Z",
     "start_time": "2024-02-17T13:57:58.996828Z"
    }
   },
   "id": "5f2e2df820404435"
  },
  {
   "cell_type": "markdown",
   "source": [
    "### Step 1\n",
    "\n",
    "Derive the conjugate momenta\n",
    "$$\n",
    "p_{\\theta_i} = \\frac{\\partial L}{\\partial \\dot{\\theta}_i}\n",
    "$$"
   ],
   "metadata": {
    "collapsed": false
   },
   "id": "1aa06ac0b73c0247"
  },
  {
   "cell_type": "code",
   "execution_count": 3,
   "outputs": [],
   "source": [
    "# Step 1: Calculate the conjugate momenta\n",
    "# the definition: omega_i = sp.diff(theta_1, t) is made in MathFunctions\n",
    "\n",
    "p_theta1_def = sp.diff(L, omega1)\n",
    "p_theta2_def = sp.diff(L, omega2)"
   ],
   "metadata": {
    "collapsed": false,
    "ExecuteTime": {
     "end_time": "2024-02-17T13:58:32.880344Z",
     "start_time": "2024-02-17T13:58:32.852839Z"
    }
   },
   "id": "83045200baa7cc2e"
  },
  {
   "cell_type": "code",
   "execution_count": 4,
   "outputs": [
    {
     "data": {
      "text/plain": "l1**2*m1*Derivative(theta1(t), t) + m2*(2*l1**2*Derivative(theta1(t), t) + 2*l1*l2*cos(theta1(t) - theta2(t))*Derivative(theta2(t), t))/2",
      "text/latex": "$\\displaystyle l_{1}^{2} m_{1} \\frac{d}{d t} \\theta_{1}{\\left(t \\right)} + \\frac{m_{2} \\cdot \\left(2 l_{1}^{2} \\frac{d}{d t} \\theta_{1}{\\left(t \\right)} + 2 l_{1} l_{2} \\cos{\\left(\\theta_{1}{\\left(t \\right)} - \\theta_{2}{\\left(t \\right)} \\right)} \\frac{d}{d t} \\theta_{2}{\\left(t \\right)}\\right)}{2}$"
     },
     "metadata": {},
     "output_type": "display_data"
    }
   ],
   "source": [
    "display(p_theta1_def)"
   ],
   "metadata": {
    "collapsed": false,
    "ExecuteTime": {
     "end_time": "2024-02-17T13:58:34.411374Z",
     "start_time": "2024-02-17T13:58:34.398964Z"
    }
   },
   "id": "ebc7abd2c8ff0a64"
  },
  {
   "cell_type": "code",
   "execution_count": 5,
   "outputs": [
    {
     "data": {
      "text/plain": "m2*(2*l1*l2*cos(theta1(t) - theta2(t))*Derivative(theta1(t), t) + 2*l2**2*Derivative(theta2(t), t))/2",
      "text/latex": "$\\displaystyle \\frac{m_{2} \\cdot \\left(2 l_{1} l_{2} \\cos{\\left(\\theta_{1}{\\left(t \\right)} - \\theta_{2}{\\left(t \\right)} \\right)} \\frac{d}{d t} \\theta_{1}{\\left(t \\right)} + 2 l_{2}^{2} \\frac{d}{d t} \\theta_{2}{\\left(t \\right)}\\right)}{2}$"
     },
     "metadata": {},
     "output_type": "display_data"
    }
   ],
   "source": [
    "display(p_theta2_def)"
   ],
   "metadata": {
    "collapsed": false,
    "ExecuteTime": {
     "end_time": "2024-02-17T13:58:36.310016Z",
     "start_time": "2024-02-17T13:58:36.297092Z"
    }
   },
   "id": "df1a9092029ee860"
  },
  {
   "cell_type": "markdown",
   "source": [
    "### Step 2\n",
    "\n",
    "The Hamiltonian $H$, representing the total energy of the system, is the Legendre transform of the Lagrangian given,\n",
    "\n",
    "$$\n",
    "H = \\sum_{i} p_i \\dot{q_i} - L\n",
    "$$\n"
   ],
   "metadata": {
    "collapsed": false
   },
   "id": "2fff2e1a4f55ad08"
  },
  {
   "cell_type": "code",
   "execution_count": 8,
   "outputs": [],
   "source": [
    "# declared in MathFunctions\n",
    "#omega1 = sp.diff(theta1, t)\n",
    "#omega2 = sp.diff(theta2, t)\n",
    "\n",
    "# introduce symbolic functions to represent the conjugate momenta\n",
    "p_theta1 = sp.Function('p_1')(t)\n",
    "p_theta2 = sp.Function('p_2')(t)\n",
    "\n",
    "# Solve for omega1 and omega2 in terms of the conjugate momenta\n",
    "sol = sp.solve((p_theta1_def - p_theta1, p_theta2_def - p_theta2), (omega1, omega2), dict=True)\n",
    "omega1_sol = sol[0][omega1]\n",
    "omega2_sol = sol[0][omega2]"
   ],
   "metadata": {
    "collapsed": false,
    "ExecuteTime": {
     "end_time": "2024-02-17T14:01:26.764469Z",
     "start_time": "2024-02-17T14:01:26.637049Z"
    }
   },
   "id": "6238ae04f6092d0e"
  },
  {
   "cell_type": "code",
   "execution_count": 9,
   "outputs": [
    {
     "data": {
      "text/plain": "-l1*p_2(t)*cos(theta1(t) - theta2(t))/(l1**2*l2*m1 - l1**2*l2*m2*cos(theta1(t) - theta2(t))**2 + l1**2*l2*m2) + l2*p_1(t)/(l1**2*l2*m1 - l1**2*l2*m2*cos(theta1(t) - theta2(t))**2 + l1**2*l2*m2)",
      "text/latex": "$\\displaystyle - \\frac{l_{1} \\operatorname{p_{2}}{\\left(t \\right)} \\cos{\\left(\\theta_{1}{\\left(t \\right)} - \\theta_{2}{\\left(t \\right)} \\right)}}{l_{1}^{2} l_{2} m_{1} - l_{1}^{2} l_{2} m_{2} \\cos^{2}{\\left(\\theta_{1}{\\left(t \\right)} - \\theta_{2}{\\left(t \\right)} \\right)} + l_{1}^{2} l_{2} m_{2}} + \\frac{l_{2} \\operatorname{p_{1}}{\\left(t \\right)}}{l_{1}^{2} l_{2} m_{1} - l_{1}^{2} l_{2} m_{2} \\cos^{2}{\\left(\\theta_{1}{\\left(t \\right)} - \\theta_{2}{\\left(t \\right)} \\right)} + l_{1}^{2} l_{2} m_{2}}$"
     },
     "metadata": {},
     "output_type": "display_data"
    }
   ],
   "source": [
    "display(omega1_sol)"
   ],
   "metadata": {
    "collapsed": false,
    "ExecuteTime": {
     "end_time": "2024-02-17T14:01:28.698005Z",
     "start_time": "2024-02-17T14:01:28.688921Z"
    }
   },
   "id": "cd64bb115f2b9955"
  },
  {
   "cell_type": "code",
   "execution_count": 10,
   "outputs": [
    {
     "data": {
      "text/plain": "l1*m1*p_2(t)/(l1*l2**2*m1*m2 - l1*l2**2*m2**2*cos(theta1(t) - theta2(t))**2 + l1*l2**2*m2**2) + l1*m2*p_2(t)/(l1*l2**2*m1*m2 - l1*l2**2*m2**2*cos(theta1(t) - theta2(t))**2 + l1*l2**2*m2**2) - l2*m2*p_1(t)*cos(theta1(t) - theta2(t))/(l1*l2**2*m1*m2 - l1*l2**2*m2**2*cos(theta1(t) - theta2(t))**2 + l1*l2**2*m2**2)",
      "text/latex": "$\\displaystyle \\frac{l_{1} m_{1} \\operatorname{p_{2}}{\\left(t \\right)}}{l_{1} l_{2}^{2} m_{1} m_{2} - l_{1} l_{2}^{2} m_{2}^{2} \\cos^{2}{\\left(\\theta_{1}{\\left(t \\right)} - \\theta_{2}{\\left(t \\right)} \\right)} + l_{1} l_{2}^{2} m_{2}^{2}} + \\frac{l_{1} m_{2} \\operatorname{p_{2}}{\\left(t \\right)}}{l_{1} l_{2}^{2} m_{1} m_{2} - l_{1} l_{2}^{2} m_{2}^{2} \\cos^{2}{\\left(\\theta_{1}{\\left(t \\right)} - \\theta_{2}{\\left(t \\right)} \\right)} + l_{1} l_{2}^{2} m_{2}^{2}} - \\frac{l_{2} m_{2} \\operatorname{p_{1}}{\\left(t \\right)} \\cos{\\left(\\theta_{1}{\\left(t \\right)} - \\theta_{2}{\\left(t \\right)} \\right)}}{l_{1} l_{2}^{2} m_{1} m_{2} - l_{1} l_{2}^{2} m_{2}^{2} \\cos^{2}{\\left(\\theta_{1}{\\left(t \\right)} - \\theta_{2}{\\left(t \\right)} \\right)} + l_{1} l_{2}^{2} m_{2}^{2}}$"
     },
     "metadata": {},
     "output_type": "display_data"
    }
   ],
   "source": [
    "display(omega2_sol)"
   ],
   "metadata": {
    "collapsed": false,
    "ExecuteTime": {
     "end_time": "2024-02-17T14:01:44.984399Z",
     "start_time": "2024-02-17T14:01:44.978133Z"
    }
   },
   "id": "ffd653d0398c925"
  },
  {
   "cell_type": "code",
   "execution_count": 15,
   "outputs": [
    {
     "data": {
      "text/plain": "(-g*l1**3*l2**2*m1**2*m2*cos(theta1(t)) + g*l1**3*l2**2*m1*m2**2*cos(theta1(t) - theta2(t))**2*cos(theta1(t)) - 2*g*l1**3*l2**2*m1*m2**2*cos(theta1(t)) + g*l1**3*l2**2*m2**3*cos(theta1(t) - theta2(t))**2*cos(theta1(t)) - g*l1**3*l2**2*m2**3*cos(theta1(t)) - g*l1**2*l2**3*m1*m2**2*cos(theta2(t)) + g*l1**2*l2**3*m2**3*cos(theta1(t) - theta2(t))**2*cos(theta2(t)) - g*l1**2*l2**3*m2**3*cos(theta2(t)) + l1**2*m1*p_2(t)**2/2 + l1**2*m2*p_2(t)**2/2 - l1*l2*m2*p_1(t)*p_2(t)*cos(theta1(t) - theta2(t)) + l2**2*m2*p_1(t)**2/2)/(l1**2*l2**2*m2*(m1 - m2*cos(theta1(t) - theta2(t))**2 + m2))",
      "text/latex": "$\\displaystyle \\frac{- g l_{1}^{3} l_{2}^{2} m_{1}^{2} m_{2} \\cos{\\left(\\theta_{1}{\\left(t \\right)} \\right)} + g l_{1}^{3} l_{2}^{2} m_{1} m_{2}^{2} \\cos^{2}{\\left(\\theta_{1}{\\left(t \\right)} - \\theta_{2}{\\left(t \\right)} \\right)} \\cos{\\left(\\theta_{1}{\\left(t \\right)} \\right)} - 2 g l_{1}^{3} l_{2}^{2} m_{1} m_{2}^{2} \\cos{\\left(\\theta_{1}{\\left(t \\right)} \\right)} + g l_{1}^{3} l_{2}^{2} m_{2}^{3} \\cos^{2}{\\left(\\theta_{1}{\\left(t \\right)} - \\theta_{2}{\\left(t \\right)} \\right)} \\cos{\\left(\\theta_{1}{\\left(t \\right)} \\right)} - g l_{1}^{3} l_{2}^{2} m_{2}^{3} \\cos{\\left(\\theta_{1}{\\left(t \\right)} \\right)} - g l_{1}^{2} l_{2}^{3} m_{1} m_{2}^{2} \\cos{\\left(\\theta_{2}{\\left(t \\right)} \\right)} + g l_{1}^{2} l_{2}^{3} m_{2}^{3} \\cos^{2}{\\left(\\theta_{1}{\\left(t \\right)} - \\theta_{2}{\\left(t \\right)} \\right)} \\cos{\\left(\\theta_{2}{\\left(t \\right)} \\right)} - g l_{1}^{2} l_{2}^{3} m_{2}^{3} \\cos{\\left(\\theta_{2}{\\left(t \\right)} \\right)} + \\frac{l_{1}^{2} m_{1} \\operatorname{p_{2}}^{2}{\\left(t \\right)}}{2} + \\frac{l_{1}^{2} m_{2} \\operatorname{p_{2}}^{2}{\\left(t \\right)}}{2} - l_{1} l_{2} m_{2} \\operatorname{p_{1}}{\\left(t \\right)} \\operatorname{p_{2}}{\\left(t \\right)} \\cos{\\left(\\theta_{1}{\\left(t \\right)} - \\theta_{2}{\\left(t \\right)} \\right)} + \\frac{l_{2}^{2} m_{2} \\operatorname{p_{1}}^{2}{\\left(t \\right)}}{2}}{l_{1}^{2} l_{2}^{2} m_{2} \\left(m_{1} - m_{2} \\cos^{2}{\\left(\\theta_{1}{\\left(t \\right)} - \\theta_{2}{\\left(t \\right)} \\right)} + m_{2}\\right)}$"
     },
     "metadata": {},
     "output_type": "display_data"
    }
   ],
   "source": [
    "# Perform the Legendre transform to get the Hamiltonian\n",
    "H = sp.simplify(p_theta1 * omega1_sol + p_theta2 * omega2_sol - L.subs({omega1: omega1_sol, omega2: omega2_sol}))\n",
    "display(H)"
   ],
   "metadata": {
    "collapsed": false,
    "ExecuteTime": {
     "end_time": "2024-02-17T14:17:45.159970Z",
     "start_time": "2024-02-17T14:17:41.870048Z"
    }
   },
   "id": "e00cc9aa3a221c26"
  },
  {
   "cell_type": "markdown",
   "source": [
    "### Step 3\n",
    "\n",
    "Hamilton's equations relate the time derivatives of the generalised coordinates and their conjugate momenta to the partial derivatives of the Hamiltonian:\n",
    "\n",
    "The time derivative of a generalized coordinate $\\theta_i$ is equal to the partial derivative of the Hamiltonian with respect to its conjugate momentum $p_{\\theta_i}$:\n",
    "\n",
    "$$\n",
    "\\dot{\\theta}_i = \\frac{\\partial H}{\\partial p_{\\theta_i}}\n",
    "$$\n",
    "\n",
    "The time derivative of a conjugate momentum $p_{\\theta_i}$ is equal to the negative partial derivative of the Hamiltonian with respect to its corresponding generalized coordinate $\\theta_i$:\n",
    "\n",
    "$$\n",
    "\\dot{p}_{\\theta_i} = -\\frac{\\partial H}{\\partial \\theta_i}\n",
    "$$\n",
    "\n",
    "For the double pendulum system, with the Hamiltonian $H\\left(\\theta_1, \\theta_2, p_{\\theta_1}, p_{\\theta_2})\\right)$, we have four Hamilton equations:\n",
    "\n",
    "$$\n",
    "\\dot{\\theta}_1 = \\frac{\\partial H}{\\partial p_{\\theta_1}}, \\ \\ \\dot{\\theta}_2 = \\frac{\\partial H}{\\partial p_{\\theta_2}}, \\ \\ \\dot{p}_{\\theta_1} = -\\frac{\\partial H}{\\partial \\theta_1}, \\ \\ \\dot{p}_{\\theta_2} = -\\frac{\\partial H}{\\partial \\theta_2}\n",
    "$$\n"
   ],
   "metadata": {
    "collapsed": false
   },
   "id": "f6a22b46186bef56"
  },
  {
   "cell_type": "code",
   "execution_count": 18,
   "outputs": [],
   "source": [
    "# Derive Hamilton's equations\n",
    "# Time derivative of generalized coordinates\n",
    "theta1_dot_eq = sp.diff(H, p_theta1)\n",
    "theta2_dot_eq = sp.diff(H, p_theta2)\n",
    "\n",
    "# Time derivative of conjugate momenta\n",
    "p_theta1_dot_eq = -sp.diff(H, theta1)\n",
    "p_theta2_dot_eq = -sp.diff(H, theta2)"
   ],
   "metadata": {
    "collapsed": false,
    "ExecuteTime": {
     "end_time": "2024-02-17T14:48:10.822040Z",
     "start_time": "2024-02-17T14:48:10.750882Z"
    }
   },
   "id": "f73cc6be4bde67d6"
  },
  {
   "cell_type": "code",
   "execution_count": 19,
   "outputs": [
    {
     "data": {
      "text/plain": "(-l1*l2*m2*p_2(t)*cos(theta1(t) - theta2(t)) + l2**2*m2*p_1(t))/(l1**2*l2**2*m2*(m1 - m2*cos(theta1(t) - theta2(t))**2 + m2))",
      "text/latex": "$\\displaystyle \\frac{- l_{1} l_{2} m_{2} \\operatorname{p_{2}}{\\left(t \\right)} \\cos{\\left(\\theta_{1}{\\left(t \\right)} - \\theta_{2}{\\left(t \\right)} \\right)} + l_{2}^{2} m_{2} \\operatorname{p_{1}}{\\left(t \\right)}}{l_{1}^{2} l_{2}^{2} m_{2} \\left(m_{1} - m_{2} \\cos^{2}{\\left(\\theta_{1}{\\left(t \\right)} - \\theta_{2}{\\left(t \\right)} \\right)} + m_{2}\\right)}$"
     },
     "metadata": {},
     "output_type": "display_data"
    }
   ],
   "source": [
    "display(theta1_dot_eq)"
   ],
   "metadata": {
    "collapsed": false,
    "ExecuteTime": {
     "end_time": "2024-02-17T14:48:22.498924Z",
     "start_time": "2024-02-17T14:48:22.482954Z"
    }
   },
   "id": "182db3359bd7a673"
  },
  {
   "cell_type": "code",
   "execution_count": 20,
   "outputs": [
    {
     "data": {
      "text/plain": "(l1**2*m1*p_2(t) + l1**2*m2*p_2(t) - l1*l2*m2*p_1(t)*cos(theta1(t) - theta2(t)))/(l1**2*l2**2*m2*(m1 - m2*cos(theta1(t) - theta2(t))**2 + m2))",
      "text/latex": "$\\displaystyle \\frac{l_{1}^{2} m_{1} \\operatorname{p_{2}}{\\left(t \\right)} + l_{1}^{2} m_{2} \\operatorname{p_{2}}{\\left(t \\right)} - l_{1} l_{2} m_{2} \\operatorname{p_{1}}{\\left(t \\right)} \\cos{\\left(\\theta_{1}{\\left(t \\right)} - \\theta_{2}{\\left(t \\right)} \\right)}}{l_{1}^{2} l_{2}^{2} m_{2} \\left(m_{1} - m_{2} \\cos^{2}{\\left(\\theta_{1}{\\left(t \\right)} - \\theta_{2}{\\left(t \\right)} \\right)} + m_{2}\\right)}$"
     },
     "metadata": {},
     "output_type": "display_data"
    }
   ],
   "source": [
    "display(theta2_dot_eq)"
   ],
   "metadata": {
    "collapsed": false,
    "ExecuteTime": {
     "end_time": "2024-02-17T14:48:37.237007Z",
     "start_time": "2024-02-17T14:48:37.220213Z"
    }
   },
   "id": "df8011cdb4a59bdf"
  },
  {
   "cell_type": "code",
   "execution_count": 21,
   "outputs": [
    {
     "data": {
      "text/plain": "2*(-g*l1**3*l2**2*m1**2*m2*cos(theta1(t)) + g*l1**3*l2**2*m1*m2**2*cos(theta1(t) - theta2(t))**2*cos(theta1(t)) - 2*g*l1**3*l2**2*m1*m2**2*cos(theta1(t)) + g*l1**3*l2**2*m2**3*cos(theta1(t) - theta2(t))**2*cos(theta1(t)) - g*l1**3*l2**2*m2**3*cos(theta1(t)) - g*l1**2*l2**3*m1*m2**2*cos(theta2(t)) + g*l1**2*l2**3*m2**3*cos(theta1(t) - theta2(t))**2*cos(theta2(t)) - g*l1**2*l2**3*m2**3*cos(theta2(t)) + l1**2*m1*p_2(t)**2/2 + l1**2*m2*p_2(t)**2/2 - l1*l2*m2*p_1(t)*p_2(t)*cos(theta1(t) - theta2(t)) + l2**2*m2*p_1(t)**2/2)*sin(theta1(t) - theta2(t))*cos(theta1(t) - theta2(t))/(l1**2*l2**2*(m1 - m2*cos(theta1(t) - theta2(t))**2 + m2)**2) - (g*l1**3*l2**2*m1**2*m2*sin(theta1(t)) - 2*g*l1**3*l2**2*m1*m2**2*sin(theta1(t) - theta2(t))*cos(theta1(t) - theta2(t))*cos(theta1(t)) - g*l1**3*l2**2*m1*m2**2*sin(theta1(t))*cos(theta1(t) - theta2(t))**2 + 2*g*l1**3*l2**2*m1*m2**2*sin(theta1(t)) - 2*g*l1**3*l2**2*m2**3*sin(theta1(t) - theta2(t))*cos(theta1(t) - theta2(t))*cos(theta1(t)) - g*l1**3*l2**2*m2**3*sin(theta1(t))*cos(theta1(t) - theta2(t))**2 + g*l1**3*l2**2*m2**3*sin(theta1(t)) - 2*g*l1**2*l2**3*m2**3*sin(theta1(t) - theta2(t))*cos(theta1(t) - theta2(t))*cos(theta2(t)) + l1*l2*m2*p_1(t)*p_2(t)*sin(theta1(t) - theta2(t)))/(l1**2*l2**2*m2*(m1 - m2*cos(theta1(t) - theta2(t))**2 + m2))",
      "text/latex": "$\\displaystyle \\frac{2 \\left(- g l_{1}^{3} l_{2}^{2} m_{1}^{2} m_{2} \\cos{\\left(\\theta_{1}{\\left(t \\right)} \\right)} + g l_{1}^{3} l_{2}^{2} m_{1} m_{2}^{2} \\cos^{2}{\\left(\\theta_{1}{\\left(t \\right)} - \\theta_{2}{\\left(t \\right)} \\right)} \\cos{\\left(\\theta_{1}{\\left(t \\right)} \\right)} - 2 g l_{1}^{3} l_{2}^{2} m_{1} m_{2}^{2} \\cos{\\left(\\theta_{1}{\\left(t \\right)} \\right)} + g l_{1}^{3} l_{2}^{2} m_{2}^{3} \\cos^{2}{\\left(\\theta_{1}{\\left(t \\right)} - \\theta_{2}{\\left(t \\right)} \\right)} \\cos{\\left(\\theta_{1}{\\left(t \\right)} \\right)} - g l_{1}^{3} l_{2}^{2} m_{2}^{3} \\cos{\\left(\\theta_{1}{\\left(t \\right)} \\right)} - g l_{1}^{2} l_{2}^{3} m_{1} m_{2}^{2} \\cos{\\left(\\theta_{2}{\\left(t \\right)} \\right)} + g l_{1}^{2} l_{2}^{3} m_{2}^{3} \\cos^{2}{\\left(\\theta_{1}{\\left(t \\right)} - \\theta_{2}{\\left(t \\right)} \\right)} \\cos{\\left(\\theta_{2}{\\left(t \\right)} \\right)} - g l_{1}^{2} l_{2}^{3} m_{2}^{3} \\cos{\\left(\\theta_{2}{\\left(t \\right)} \\right)} + \\frac{l_{1}^{2} m_{1} \\operatorname{p_{2}}^{2}{\\left(t \\right)}}{2} + \\frac{l_{1}^{2} m_{2} \\operatorname{p_{2}}^{2}{\\left(t \\right)}}{2} - l_{1} l_{2} m_{2} \\operatorname{p_{1}}{\\left(t \\right)} \\operatorname{p_{2}}{\\left(t \\right)} \\cos{\\left(\\theta_{1}{\\left(t \\right)} - \\theta_{2}{\\left(t \\right)} \\right)} + \\frac{l_{2}^{2} m_{2} \\operatorname{p_{1}}^{2}{\\left(t \\right)}}{2}\\right) \\sin{\\left(\\theta_{1}{\\left(t \\right)} - \\theta_{2}{\\left(t \\right)} \\right)} \\cos{\\left(\\theta_{1}{\\left(t \\right)} - \\theta_{2}{\\left(t \\right)} \\right)}}{l_{1}^{2} l_{2}^{2} \\left(m_{1} - m_{2} \\cos^{2}{\\left(\\theta_{1}{\\left(t \\right)} - \\theta_{2}{\\left(t \\right)} \\right)} + m_{2}\\right)^{2}} - \\frac{g l_{1}^{3} l_{2}^{2} m_{1}^{2} m_{2} \\sin{\\left(\\theta_{1}{\\left(t \\right)} \\right)} - 2 g l_{1}^{3} l_{2}^{2} m_{1} m_{2}^{2} \\sin{\\left(\\theta_{1}{\\left(t \\right)} - \\theta_{2}{\\left(t \\right)} \\right)} \\cos{\\left(\\theta_{1}{\\left(t \\right)} - \\theta_{2}{\\left(t \\right)} \\right)} \\cos{\\left(\\theta_{1}{\\left(t \\right)} \\right)} - g l_{1}^{3} l_{2}^{2} m_{1} m_{2}^{2} \\sin{\\left(\\theta_{1}{\\left(t \\right)} \\right)} \\cos^{2}{\\left(\\theta_{1}{\\left(t \\right)} - \\theta_{2}{\\left(t \\right)} \\right)} + 2 g l_{1}^{3} l_{2}^{2} m_{1} m_{2}^{2} \\sin{\\left(\\theta_{1}{\\left(t \\right)} \\right)} - 2 g l_{1}^{3} l_{2}^{2} m_{2}^{3} \\sin{\\left(\\theta_{1}{\\left(t \\right)} - \\theta_{2}{\\left(t \\right)} \\right)} \\cos{\\left(\\theta_{1}{\\left(t \\right)} - \\theta_{2}{\\left(t \\right)} \\right)} \\cos{\\left(\\theta_{1}{\\left(t \\right)} \\right)} - g l_{1}^{3} l_{2}^{2} m_{2}^{3} \\sin{\\left(\\theta_{1}{\\left(t \\right)} \\right)} \\cos^{2}{\\left(\\theta_{1}{\\left(t \\right)} - \\theta_{2}{\\left(t \\right)} \\right)} + g l_{1}^{3} l_{2}^{2} m_{2}^{3} \\sin{\\left(\\theta_{1}{\\left(t \\right)} \\right)} - 2 g l_{1}^{2} l_{2}^{3} m_{2}^{3} \\sin{\\left(\\theta_{1}{\\left(t \\right)} - \\theta_{2}{\\left(t \\right)} \\right)} \\cos{\\left(\\theta_{1}{\\left(t \\right)} - \\theta_{2}{\\left(t \\right)} \\right)} \\cos{\\left(\\theta_{2}{\\left(t \\right)} \\right)} + l_{1} l_{2} m_{2} \\operatorname{p_{1}}{\\left(t \\right)} \\operatorname{p_{2}}{\\left(t \\right)} \\sin{\\left(\\theta_{1}{\\left(t \\right)} - \\theta_{2}{\\left(t \\right)} \\right)}}{l_{1}^{2} l_{2}^{2} m_{2} \\left(m_{1} - m_{2} \\cos^{2}{\\left(\\theta_{1}{\\left(t \\right)} - \\theta_{2}{\\left(t \\right)} \\right)} + m_{2}\\right)}$"
     },
     "metadata": {},
     "output_type": "display_data"
    }
   ],
   "source": [
    "display(p_theta1_dot_eq)"
   ],
   "metadata": {
    "collapsed": false,
    "ExecuteTime": {
     "end_time": "2024-02-17T14:49:10.564446Z",
     "start_time": "2024-02-17T14:49:10.528649Z"
    }
   },
   "id": "cc57976b42c94bc2"
  },
  {
   "cell_type": "code",
   "execution_count": 22,
   "outputs": [
    {
     "data": {
      "text/plain": "-2*(-g*l1**3*l2**2*m1**2*m2*cos(theta1(t)) + g*l1**3*l2**2*m1*m2**2*cos(theta1(t) - theta2(t))**2*cos(theta1(t)) - 2*g*l1**3*l2**2*m1*m2**2*cos(theta1(t)) + g*l1**3*l2**2*m2**3*cos(theta1(t) - theta2(t))**2*cos(theta1(t)) - g*l1**3*l2**2*m2**3*cos(theta1(t)) - g*l1**2*l2**3*m1*m2**2*cos(theta2(t)) + g*l1**2*l2**3*m2**3*cos(theta1(t) - theta2(t))**2*cos(theta2(t)) - g*l1**2*l2**3*m2**3*cos(theta2(t)) + l1**2*m1*p_2(t)**2/2 + l1**2*m2*p_2(t)**2/2 - l1*l2*m2*p_1(t)*p_2(t)*cos(theta1(t) - theta2(t)) + l2**2*m2*p_1(t)**2/2)*sin(theta1(t) - theta2(t))*cos(theta1(t) - theta2(t))/(l1**2*l2**2*(m1 - m2*cos(theta1(t) - theta2(t))**2 + m2)**2) - (2*g*l1**3*l2**2*m1*m2**2*sin(theta1(t) - theta2(t))*cos(theta1(t) - theta2(t))*cos(theta1(t)) + 2*g*l1**3*l2**2*m2**3*sin(theta1(t) - theta2(t))*cos(theta1(t) - theta2(t))*cos(theta1(t)) + g*l1**2*l2**3*m1*m2**2*sin(theta2(t)) + 2*g*l1**2*l2**3*m2**3*sin(theta1(t) - theta2(t))*cos(theta1(t) - theta2(t))*cos(theta2(t)) - g*l1**2*l2**3*m2**3*sin(theta2(t))*cos(theta1(t) - theta2(t))**2 + g*l1**2*l2**3*m2**3*sin(theta2(t)) - l1*l2*m2*p_1(t)*p_2(t)*sin(theta1(t) - theta2(t)))/(l1**2*l2**2*m2*(m1 - m2*cos(theta1(t) - theta2(t))**2 + m2))",
      "text/latex": "$\\displaystyle - \\frac{2 \\left(- g l_{1}^{3} l_{2}^{2} m_{1}^{2} m_{2} \\cos{\\left(\\theta_{1}{\\left(t \\right)} \\right)} + g l_{1}^{3} l_{2}^{2} m_{1} m_{2}^{2} \\cos^{2}{\\left(\\theta_{1}{\\left(t \\right)} - \\theta_{2}{\\left(t \\right)} \\right)} \\cos{\\left(\\theta_{1}{\\left(t \\right)} \\right)} - 2 g l_{1}^{3} l_{2}^{2} m_{1} m_{2}^{2} \\cos{\\left(\\theta_{1}{\\left(t \\right)} \\right)} + g l_{1}^{3} l_{2}^{2} m_{2}^{3} \\cos^{2}{\\left(\\theta_{1}{\\left(t \\right)} - \\theta_{2}{\\left(t \\right)} \\right)} \\cos{\\left(\\theta_{1}{\\left(t \\right)} \\right)} - g l_{1}^{3} l_{2}^{2} m_{2}^{3} \\cos{\\left(\\theta_{1}{\\left(t \\right)} \\right)} - g l_{1}^{2} l_{2}^{3} m_{1} m_{2}^{2} \\cos{\\left(\\theta_{2}{\\left(t \\right)} \\right)} + g l_{1}^{2} l_{2}^{3} m_{2}^{3} \\cos^{2}{\\left(\\theta_{1}{\\left(t \\right)} - \\theta_{2}{\\left(t \\right)} \\right)} \\cos{\\left(\\theta_{2}{\\left(t \\right)} \\right)} - g l_{1}^{2} l_{2}^{3} m_{2}^{3} \\cos{\\left(\\theta_{2}{\\left(t \\right)} \\right)} + \\frac{l_{1}^{2} m_{1} \\operatorname{p_{2}}^{2}{\\left(t \\right)}}{2} + \\frac{l_{1}^{2} m_{2} \\operatorname{p_{2}}^{2}{\\left(t \\right)}}{2} - l_{1} l_{2} m_{2} \\operatorname{p_{1}}{\\left(t \\right)} \\operatorname{p_{2}}{\\left(t \\right)} \\cos{\\left(\\theta_{1}{\\left(t \\right)} - \\theta_{2}{\\left(t \\right)} \\right)} + \\frac{l_{2}^{2} m_{2} \\operatorname{p_{1}}^{2}{\\left(t \\right)}}{2}\\right) \\sin{\\left(\\theta_{1}{\\left(t \\right)} - \\theta_{2}{\\left(t \\right)} \\right)} \\cos{\\left(\\theta_{1}{\\left(t \\right)} - \\theta_{2}{\\left(t \\right)} \\right)}}{l_{1}^{2} l_{2}^{2} \\left(m_{1} - m_{2} \\cos^{2}{\\left(\\theta_{1}{\\left(t \\right)} - \\theta_{2}{\\left(t \\right)} \\right)} + m_{2}\\right)^{2}} - \\frac{2 g l_{1}^{3} l_{2}^{2} m_{1} m_{2}^{2} \\sin{\\left(\\theta_{1}{\\left(t \\right)} - \\theta_{2}{\\left(t \\right)} \\right)} \\cos{\\left(\\theta_{1}{\\left(t \\right)} - \\theta_{2}{\\left(t \\right)} \\right)} \\cos{\\left(\\theta_{1}{\\left(t \\right)} \\right)} + 2 g l_{1}^{3} l_{2}^{2} m_{2}^{3} \\sin{\\left(\\theta_{1}{\\left(t \\right)} - \\theta_{2}{\\left(t \\right)} \\right)} \\cos{\\left(\\theta_{1}{\\left(t \\right)} - \\theta_{2}{\\left(t \\right)} \\right)} \\cos{\\left(\\theta_{1}{\\left(t \\right)} \\right)} + g l_{1}^{2} l_{2}^{3} m_{1} m_{2}^{2} \\sin{\\left(\\theta_{2}{\\left(t \\right)} \\right)} + 2 g l_{1}^{2} l_{2}^{3} m_{2}^{3} \\sin{\\left(\\theta_{1}{\\left(t \\right)} - \\theta_{2}{\\left(t \\right)} \\right)} \\cos{\\left(\\theta_{1}{\\left(t \\right)} - \\theta_{2}{\\left(t \\right)} \\right)} \\cos{\\left(\\theta_{2}{\\left(t \\right)} \\right)} - g l_{1}^{2} l_{2}^{3} m_{2}^{3} \\sin{\\left(\\theta_{2}{\\left(t \\right)} \\right)} \\cos^{2}{\\left(\\theta_{1}{\\left(t \\right)} - \\theta_{2}{\\left(t \\right)} \\right)} + g l_{1}^{2} l_{2}^{3} m_{2}^{3} \\sin{\\left(\\theta_{2}{\\left(t \\right)} \\right)} - l_{1} l_{2} m_{2} \\operatorname{p_{1}}{\\left(t \\right)} \\operatorname{p_{2}}{\\left(t \\right)} \\sin{\\left(\\theta_{1}{\\left(t \\right)} - \\theta_{2}{\\left(t \\right)} \\right)}}{l_{1}^{2} l_{2}^{2} m_{2} \\left(m_{1} - m_{2} \\cos^{2}{\\left(\\theta_{1}{\\left(t \\right)} - \\theta_{2}{\\left(t \\right)} \\right)} + m_{2}\\right)}$"
     },
     "metadata": {},
     "output_type": "display_data"
    }
   ],
   "source": [
    "display(p_theta2_dot_eq)"
   ],
   "metadata": {
    "collapsed": false,
    "ExecuteTime": {
     "end_time": "2024-02-17T14:49:47.831846Z",
     "start_time": "2024-02-17T14:49:47.823589Z"
    }
   },
   "id": "2bb21f0e382d3e1f"
  },
  {
   "cell_type": "markdown",
   "source": [
    "### Step 4\n",
    "\n",
    "Get annoyed as these are unbelievably complex equations!"
   ],
   "metadata": {
    "collapsed": false
   },
   "id": "a63846c958d41882"
  },
  {
   "cell_type": "markdown",
   "source": [
    "-----"
   ],
   "metadata": {
    "collapsed": false
   },
   "id": "2ce8cc9c80f54382"
  }
 ],
 "metadata": {
  "kernelspec": {
   "display_name": "Python 3",
   "language": "python",
   "name": "python3"
  },
  "language_info": {
   "codemirror_mode": {
    "name": "ipython",
    "version": 2
   },
   "file_extension": ".py",
   "mimetype": "text/x-python",
   "name": "python",
   "nbconvert_exporter": "python",
   "pygments_lexer": "ipython2",
   "version": "2.7.6"
  }
 },
 "nbformat": 4,
 "nbformat_minor": 5
}
