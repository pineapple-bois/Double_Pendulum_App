{
 "cells": [
  {
   "cell_type": "code",
   "id": "initial_id",
   "metadata": {
    "collapsed": true,
    "ExecuteTime": {
     "end_time": "2024-08-02T18:25:03.169615Z",
     "start_time": "2024-08-02T18:25:01.773279Z"
    }
   },
   "source": [
    "import sympy as sp\n",
    "from HamiltonianFunctions import *\n",
    "from DoublePendulumRefactor import *"
   ],
   "outputs": [],
   "execution_count": 1
  },
  {
   "metadata": {
    "ExecuteTime": {
     "end_time": "2024-08-02T18:25:29.563974Z",
     "start_time": "2024-08-02T18:25:05.663590Z"
    }
   },
   "cell_type": "code",
   "source": "MAT, eq1, eq2, eq3, eq4 = hamiltonian_system()",
   "id": "c14264ba058a8bf1",
   "outputs": [],
   "execution_count": 2
  },
  {
   "metadata": {
    "ExecuteTime": {
     "end_time": "2024-08-02T18:25:33.940674Z",
     "start_time": "2024-08-02T18:25:33.905887Z"
    }
   },
   "cell_type": "code",
   "source": "display(MAT)",
   "id": "4691c23d82daaecc",
   "outputs": [
    {
     "data": {
      "text/plain": [
       "Eq(Matrix([\n",
       "[   Derivative(theta1(t), t)],\n",
       "[   Derivative(theta2(t), t)],\n",
       "[Derivative(p_theta_1(t), t)],\n",
       "[Derivative(p_theta_2(t), t)]]), Matrix([\n",
       "[                                                                                                                                                                                                                                                                                                                          Derivative(theta1(t), t)],\n",
       "[                                                                                                                                                                                                                                                                                                                          Derivative(theta2(t), t)],\n",
       "[-l1*(g*m1*sin(theta1(t)) + g*m2*sin(theta1(t)) + l2*m2*sin(theta1(t) - theta2(t))*Derivative(theta1(t), t)*Derivative(theta2(t), t))*(-m1 + m2*sin(theta1(t))**2*sin(theta2(t))**2 + 2*m2*sin(theta1(t))*sin(theta2(t))*cos(theta1(t))*cos(theta2(t)) + m2*cos(theta1(t))**2*cos(theta2(t))**2 - m2)**2/(m1 + m2*sin(theta1(t) - theta2(t))**2)**2],\n",
       "[                          l2*m2*(-g*sin(theta2(t)) + l1*sin(theta1(t) - theta2(t))*Derivative(theta1(t), t)*Derivative(theta2(t), t))*(m1 - m2*sin(theta1(t))**2*sin(theta2(t))**2 - 2*m2*sin(theta1(t))*sin(theta2(t))*cos(theta1(t))*cos(theta2(t)) - m2*cos(theta1(t))**2*cos(theta2(t))**2 + m2)**2/(m1 + m2*sin(theta1(t) - theta2(t))**2)**2]]))"
      ],
      "text/latex": "$\\displaystyle \\left[\\begin{matrix}\\frac{d}{d t} \\theta_{1}{\\left(t \\right)}\\\\\\frac{d}{d t} \\theta_{2}{\\left(t \\right)}\\\\\\frac{d}{d t} \\operatorname{p_{\\theta 1}}{\\left(t \\right)}\\\\\\frac{d}{d t} \\operatorname{p_{\\theta 2}}{\\left(t \\right)}\\end{matrix}\\right] = \\left[\\begin{matrix}\\frac{d}{d t} \\theta_{1}{\\left(t \\right)}\\\\\\frac{d}{d t} \\theta_{2}{\\left(t \\right)}\\\\- \\frac{l_{1} \\left(g m_{1} \\sin{\\left(\\theta_{1}{\\left(t \\right)} \\right)} + g m_{2} \\sin{\\left(\\theta_{1}{\\left(t \\right)} \\right)} + l_{2} m_{2} \\sin{\\left(\\theta_{1}{\\left(t \\right)} - \\theta_{2}{\\left(t \\right)} \\right)} \\frac{d}{d t} \\theta_{1}{\\left(t \\right)} \\frac{d}{d t} \\theta_{2}{\\left(t \\right)}\\right) \\left(- m_{1} + m_{2} \\sin^{2}{\\left(\\theta_{1}{\\left(t \\right)} \\right)} \\sin^{2}{\\left(\\theta_{2}{\\left(t \\right)} \\right)} + 2 m_{2} \\sin{\\left(\\theta_{1}{\\left(t \\right)} \\right)} \\sin{\\left(\\theta_{2}{\\left(t \\right)} \\right)} \\cos{\\left(\\theta_{1}{\\left(t \\right)} \\right)} \\cos{\\left(\\theta_{2}{\\left(t \\right)} \\right)} + m_{2} \\cos^{2}{\\left(\\theta_{1}{\\left(t \\right)} \\right)} \\cos^{2}{\\left(\\theta_{2}{\\left(t \\right)} \\right)} - m_{2}\\right)^{2}}{\\left(m_{1} + m_{2} \\sin^{2}{\\left(\\theta_{1}{\\left(t \\right)} - \\theta_{2}{\\left(t \\right)} \\right)}\\right)^{2}}\\\\\\frac{l_{2} m_{2} \\left(- g \\sin{\\left(\\theta_{2}{\\left(t \\right)} \\right)} + l_{1} \\sin{\\left(\\theta_{1}{\\left(t \\right)} - \\theta_{2}{\\left(t \\right)} \\right)} \\frac{d}{d t} \\theta_{1}{\\left(t \\right)} \\frac{d}{d t} \\theta_{2}{\\left(t \\right)}\\right) \\left(m_{1} - m_{2} \\sin^{2}{\\left(\\theta_{1}{\\left(t \\right)} \\right)} \\sin^{2}{\\left(\\theta_{2}{\\left(t \\right)} \\right)} - 2 m_{2} \\sin{\\left(\\theta_{1}{\\left(t \\right)} \\right)} \\sin{\\left(\\theta_{2}{\\left(t \\right)} \\right)} \\cos{\\left(\\theta_{1}{\\left(t \\right)} \\right)} \\cos{\\left(\\theta_{2}{\\left(t \\right)} \\right)} - m_{2} \\cos^{2}{\\left(\\theta_{1}{\\left(t \\right)} \\right)} \\cos^{2}{\\left(\\theta_{2}{\\left(t \\right)} \\right)} + m_{2}\\right)^{2}}{\\left(m_{1} + m_{2} \\sin^{2}{\\left(\\theta_{1}{\\left(t \\right)} - \\theta_{2}{\\left(t \\right)} \\right)}\\right)^{2}}\\end{matrix}\\right]$"
     },
     "metadata": {},
     "output_type": "display_data"
    }
   ],
   "execution_count": 3
  },
  {
   "metadata": {
    "ExecuteTime": {
     "end_time": "2024-08-02T18:25:49.763587Z",
     "start_time": "2024-08-02T18:25:49.756961Z"
    }
   },
   "cell_type": "code",
   "source": "display(eq1)",
   "id": "814e9970e92cbd2d",
   "outputs": [
    {
     "data": {
      "text/plain": [
       "Derivative(theta1(t), t)"
      ],
      "text/latex": "$\\displaystyle \\frac{d}{d t} \\theta_{1}{\\left(t \\right)}$"
     },
     "metadata": {},
     "output_type": "display_data"
    }
   ],
   "execution_count": 4
  },
  {
   "metadata": {
    "ExecuteTime": {
     "end_time": "2024-08-02T18:25:53.013866Z",
     "start_time": "2024-08-02T18:25:53.006403Z"
    }
   },
   "cell_type": "code",
   "source": "display(eq2)",
   "id": "bc452b98a7c540b7",
   "outputs": [
    {
     "data": {
      "text/plain": [
       "Derivative(theta2(t), t)"
      ],
      "text/latex": "$\\displaystyle \\frac{d}{d t} \\theta_{2}{\\left(t \\right)}$"
     },
     "metadata": {},
     "output_type": "display_data"
    }
   ],
   "execution_count": 5
  },
  {
   "metadata": {
    "ExecuteTime": {
     "end_time": "2024-08-02T18:26:50.604203Z",
     "start_time": "2024-08-02T18:26:50.587225Z"
    }
   },
   "cell_type": "code",
   "source": "display(eq3)",
   "id": "c5f4b94a57e581",
   "outputs": [
    {
     "data": {
      "text/plain": [
       "-l1*(g*m1*sin(theta1(t)) + g*m2*sin(theta1(t)) + l2*m2*sin(theta1(t) - theta2(t))*Derivative(theta1(t), t)*Derivative(theta2(t), t))*(-m1 + m2*sin(theta1(t))**2*sin(theta2(t))**2 + 2*m2*sin(theta1(t))*sin(theta2(t))*cos(theta1(t))*cos(theta2(t)) + m2*cos(theta1(t))**2*cos(theta2(t))**2 - m2)**2/(m1 + m2*sin(theta1(t) - theta2(t))**2)**2"
      ],
      "text/latex": "$\\displaystyle - \\frac{l_{1} \\left(g m_{1} \\sin{\\left(\\theta_{1}{\\left(t \\right)} \\right)} + g m_{2} \\sin{\\left(\\theta_{1}{\\left(t \\right)} \\right)} + l_{2} m_{2} \\sin{\\left(\\theta_{1}{\\left(t \\right)} - \\theta_{2}{\\left(t \\right)} \\right)} \\frac{d}{d t} \\theta_{1}{\\left(t \\right)} \\frac{d}{d t} \\theta_{2}{\\left(t \\right)}\\right) \\left(- m_{1} + m_{2} \\sin^{2}{\\left(\\theta_{1}{\\left(t \\right)} \\right)} \\sin^{2}{\\left(\\theta_{2}{\\left(t \\right)} \\right)} + 2 m_{2} \\sin{\\left(\\theta_{1}{\\left(t \\right)} \\right)} \\sin{\\left(\\theta_{2}{\\left(t \\right)} \\right)} \\cos{\\left(\\theta_{1}{\\left(t \\right)} \\right)} \\cos{\\left(\\theta_{2}{\\left(t \\right)} \\right)} + m_{2} \\cos^{2}{\\left(\\theta_{1}{\\left(t \\right)} \\right)} \\cos^{2}{\\left(\\theta_{2}{\\left(t \\right)} \\right)} - m_{2}\\right)^{2}}{\\left(m_{1} + m_{2} \\sin^{2}{\\left(\\theta_{1}{\\left(t \\right)} - \\theta_{2}{\\left(t \\right)} \\right)}\\right)^{2}}$"
     },
     "metadata": {},
     "output_type": "display_data"
    }
   ],
   "execution_count": 7
  },
  {
   "metadata": {
    "ExecuteTime": {
     "end_time": "2024-08-02T18:26:54.353963Z",
     "start_time": "2024-08-02T18:26:54.337700Z"
    }
   },
   "cell_type": "code",
   "source": "display(eq4)",
   "id": "d86f48f15ed85f2d",
   "outputs": [
    {
     "data": {
      "text/plain": [
       "l2*m2*(-g*sin(theta2(t)) + l1*sin(theta1(t) - theta2(t))*Derivative(theta1(t), t)*Derivative(theta2(t), t))*(m1 - m2*sin(theta1(t))**2*sin(theta2(t))**2 - 2*m2*sin(theta1(t))*sin(theta2(t))*cos(theta1(t))*cos(theta2(t)) - m2*cos(theta1(t))**2*cos(theta2(t))**2 + m2)**2/(m1 + m2*sin(theta1(t) - theta2(t))**2)**2"
      ],
      "text/latex": "$\\displaystyle \\frac{l_{2} m_{2} \\left(- g \\sin{\\left(\\theta_{2}{\\left(t \\right)} \\right)} + l_{1} \\sin{\\left(\\theta_{1}{\\left(t \\right)} - \\theta_{2}{\\left(t \\right)} \\right)} \\frac{d}{d t} \\theta_{1}{\\left(t \\right)} \\frac{d}{d t} \\theta_{2}{\\left(t \\right)}\\right) \\left(m_{1} - m_{2} \\sin^{2}{\\left(\\theta_{1}{\\left(t \\right)} \\right)} \\sin^{2}{\\left(\\theta_{2}{\\left(t \\right)} \\right)} - 2 m_{2} \\sin{\\left(\\theta_{1}{\\left(t \\right)} \\right)} \\sin{\\left(\\theta_{2}{\\left(t \\right)} \\right)} \\cos{\\left(\\theta_{1}{\\left(t \\right)} \\right)} \\cos{\\left(\\theta_{2}{\\left(t \\right)} \\right)} - m_{2} \\cos^{2}{\\left(\\theta_{1}{\\left(t \\right)} \\right)} \\cos^{2}{\\left(\\theta_{2}{\\left(t \\right)} \\right)} + m_{2}\\right)^{2}}{\\left(m_{1} + m_{2} \\sin^{2}{\\left(\\theta_{1}{\\left(t \\right)} - \\theta_{2}{\\left(t \\right)} \\right)}\\right)^{2}}$"
     },
     "metadata": {},
     "output_type": "display_data"
    }
   ],
   "execution_count": 8
  }
 ],
 "metadata": {
  "kernelspec": {
   "display_name": "Python 3",
   "language": "python",
   "name": "python3"
  },
  "language_info": {
   "codemirror_mode": {
    "name": "ipython",
    "version": 2
   },
   "file_extension": ".py",
   "mimetype": "text/x-python",
   "name": "python",
   "nbconvert_exporter": "python",
   "pygments_lexer": "ipython2",
   "version": "2.7.6"
  }
 },
 "nbformat": 4,
 "nbformat_minor": 5
}
