{
 "cells": [
  {
   "cell_type": "markdown",
   "id": "7a8721ea8371ca1d",
   "metadata": {},
   "source": [
    "# Deriving the Hamiltonian"
   ]
  },
  {
   "cell_type": "code",
   "id": "initial_id",
   "metadata": {
    "collapsed": true,
    "ExecuteTime": {
     "end_time": "2024-08-02T14:53:18.185471Z",
     "start_time": "2024-08-02T14:53:18.182735Z"
    }
   },
   "source": [
    "import sympy as sp\n",
    "from MathFunctions import *"
   ],
   "outputs": [],
   "execution_count": 135
  },
  {
   "cell_type": "markdown",
   "id": "b73b8a7cc4097a1c",
   "metadata": {},
   "source": [
    "### Simple model"
   ]
  },
  {
   "cell_type": "code",
   "id": "5f2e2df820404435",
   "metadata": {
    "ExecuteTime": {
     "end_time": "2024-08-02T14:53:18.999578Z",
     "start_time": "2024-08-02T14:53:18.252233Z"
    }
   },
   "source": [
    "# Starting from the Lagrangian of the system\n",
    "L = form_lagrangian('simple')\n",
    "display(L)"
   ],
   "outputs": [
    {
     "data": {
      "text/plain": [
       "g*(l1*m1*cos(theta1(t)) + l1*m2*cos(theta1(t)) + l2*m2*cos(theta2(t))) + l1**2*m1*Derivative(theta1(t), t)**2/2 + m2*(l1**2*Derivative(theta1(t), t)**2 + 2*l1*l2*cos(theta1(t) - theta2(t))*Derivative(theta1(t), t)*Derivative(theta2(t), t) + l2**2*Derivative(theta2(t), t)**2)/2"
      ],
      "text/latex": "$\\displaystyle g \\left(l_{1} m_{1} \\cos{\\left(\\theta_{1}{\\left(t \\right)} \\right)} + l_{1} m_{2} \\cos{\\left(\\theta_{1}{\\left(t \\right)} \\right)} + l_{2} m_{2} \\cos{\\left(\\theta_{2}{\\left(t \\right)} \\right)}\\right) + \\frac{l_{1}^{2} m_{1} \\left(\\frac{d}{d t} \\theta_{1}{\\left(t \\right)}\\right)^{2}}{2} + \\frac{m_{2} \\left(l_{1}^{2} \\left(\\frac{d}{d t} \\theta_{1}{\\left(t \\right)}\\right)^{2} + 2 l_{1} l_{2} \\cos{\\left(\\theta_{1}{\\left(t \\right)} - \\theta_{2}{\\left(t \\right)} \\right)} \\frac{d}{d t} \\theta_{1}{\\left(t \\right)} \\frac{d}{d t} \\theta_{2}{\\left(t \\right)} + l_{2}^{2} \\left(\\frac{d}{d t} \\theta_{2}{\\left(t \\right)}\\right)^{2}\\right)}{2}$"
     },
     "metadata": {},
     "output_type": "display_data"
    }
   ],
   "execution_count": 136
  },
  {
   "cell_type": "markdown",
   "id": "118f03e1f16ed4e",
   "metadata": {},
   "source": [
    "#### The Lagrangian:\n",
    "\n",
    "$$\\mathcal{L} = g \\left(l_{1} m_{1} \\cos{\\left(\\theta_{1}{\\left(t \\right)} \\right)} + l_{1} m_{2} \\cos{\\left(\\theta_{1}{\\left(t \\right)} \\right)} + l_{2} m_{2} \\cos{\\left(\\theta_{2}{\\left(t \\right)} \\right)}\\right) + \\frac{l_{1}^{2} m_{1} \\left(\\frac{d}{d t} \\theta_{1}{\\left(t \\right)}\\right)^{2}}{2} + \\frac{m_{2} \\left(l_{1}^{2} \\left(\\frac{d}{d t} \\theta_{1}{\\left(t \\right)}\\right)^{2} + 2 l_{1} l_{2} \\cos{\\left(\\theta_{1}{\\left(t \\right)} - \\theta_{2}{\\left(t \\right)} \\right)} \\frac{d}{d t} \\theta_{1}{\\left(t \\right)} \\frac{d}{d t} \\theta_{2}{\\left(t \\right)} + l_{2}^{2} \\left(\\frac{d}{d t} \\theta_{2}{\\left(t \\right)}\\right)^{2}\\right)}{2} \\quad \\tag{1}$$"
   ]
  },
  {
   "cell_type": "markdown",
   "id": "1aa06ac0b73c0247",
   "metadata": {},
   "source": [
    "----\n",
    "&nbsp;\n",
    "### Step 1\n",
    "\n",
    "Derive the canonical momenta of the system; $p_{\\theta_i} = \\frac{\\partial \\mathcal{L}}{\\partial \\dot{\\theta}_i}$"
   ]
  },
  {
   "cell_type": "code",
   "id": "83045200baa7cc2e",
   "metadata": {
    "ExecuteTime": {
     "end_time": "2024-08-02T14:53:19.023667Z",
     "start_time": "2024-08-02T14:53:19.000966Z"
    }
   },
   "source": [
    "# the definition: omega_i = sp.diff(theta_i, t) is also made in MathFunctions\n",
    "# Define the generalised velocities\n",
    "omega1 = sp.diff(theta1, t)\n",
    "omega2 = sp.diff(theta2, t)\n",
    "\n",
    "p_theta1_def = sp.diff(L, omega1)\n",
    "p_theta2_def = sp.diff(L, omega2)"
   ],
   "outputs": [],
   "execution_count": 137
  },
  {
   "cell_type": "code",
   "id": "ebc7abd2c8ff0a64",
   "metadata": {
    "ExecuteTime": {
     "end_time": "2024-08-02T14:53:19.034055Z",
     "start_time": "2024-08-02T14:53:19.025189Z"
    }
   },
   "source": [
    "p_theta1_def = sp.expand(p_theta1_def)\n",
    "display(p_theta1_def)"
   ],
   "outputs": [
    {
     "data": {
      "text/plain": [
       "l1**2*m1*Derivative(theta1(t), t) + l1**2*m2*Derivative(theta1(t), t) + l1*l2*m2*cos(theta1(t) - theta2(t))*Derivative(theta2(t), t)"
      ],
      "text/latex": "$\\displaystyle l_{1}^{2} m_{1} \\frac{d}{d t} \\theta_{1}{\\left(t \\right)} + l_{1}^{2} m_{2} \\frac{d}{d t} \\theta_{1}{\\left(t \\right)} + l_{1} l_{2} m_{2} \\cos{\\left(\\theta_{1}{\\left(t \\right)} - \\theta_{2}{\\left(t \\right)} \\right)} \\frac{d}{d t} \\theta_{2}{\\left(t \\right)}$"
     },
     "metadata": {},
     "output_type": "display_data"
    }
   ],
   "execution_count": 138
  },
  {
   "cell_type": "code",
   "id": "df1a9092029ee860",
   "metadata": {
    "ExecuteTime": {
     "end_time": "2024-08-02T14:53:19.044357Z",
     "start_time": "2024-08-02T14:53:19.037374Z"
    }
   },
   "source": [
    "p_theta2_def = sp.expand(p_theta2_def)\n",
    "display(p_theta2_def)"
   ],
   "outputs": [
    {
     "data": {
      "text/plain": [
       "l1*l2*m2*cos(theta1(t) - theta2(t))*Derivative(theta1(t), t) + l2**2*m2*Derivative(theta2(t), t)"
      ],
      "text/latex": "$\\displaystyle l_{1} l_{2} m_{2} \\cos{\\left(\\theta_{1}{\\left(t \\right)} - \\theta_{2}{\\left(t \\right)} \\right)} \\frac{d}{d t} \\theta_{1}{\\left(t \\right)} + l_{2}^{2} m_{2} \\frac{d}{d t} \\theta_{2}{\\left(t \\right)}$"
     },
     "metadata": {},
     "output_type": "display_data"
    }
   ],
   "execution_count": 139
  },
  {
   "metadata": {},
   "cell_type": "markdown",
   "source": [
    "The canonical momenta are given by:\n",
    "\n",
    "$$\n",
    "\\begin{align}\n",
    "p_{\\theta_1} &\\equiv \\frac{\\partial \\mathcal{L}}{\\partial \\dot{\\theta_1}} = l_{1}^{2} m_{1} \\dot{\\theta_{1}} + l_{1}^{2} m_{2} \\dot{\\theta_{1}} + l_{1} l_{2} m_{2} \\cos{\\left(\\theta_{1} - \\theta_{2} \\right)} \\dot{\\theta_{2}} \\quad \\tag{2} \\\\\n",
    "p_{\\theta_2} &\\equiv \\frac{\\partial \\mathcal{L}}{\\partial \\dot{\\theta_2}} = l_{1} l_{2} m_{2} \\cos{\\left(\\theta_{1} - \\theta_{2} \\right)} \\dot{\\theta_{1}} + l_{2}^{2} m_{2} \\dot{\\theta_{2}} \\quad \\tag{3}\n",
    "\\end{align}\n",
    "$$"
   ],
   "id": "1dc8989c65944e88"
  },
  {
   "cell_type": "markdown",
   "id": "4605e8d934312ad6",
   "metadata": {},
   "source": "We define the canonical momenta as SymPy equations;"
  },
  {
   "cell_type": "code",
   "id": "dff9cc9ce826a7d1",
   "metadata": {
    "ExecuteTime": {
     "end_time": "2024-08-02T14:53:19.048002Z",
     "start_time": "2024-08-02T14:53:19.045362Z"
    }
   },
   "source": [
    "# introduce symbolic functions to represent the canonical momenta\n",
    "p_theta1 = sp.Function('p_theta_1')(t)\n",
    "p_theta2 = sp.Function('p_theta_2')(t)"
   ],
   "outputs": [],
   "execution_count": 140
  },
  {
   "cell_type": "code",
   "id": "e5ff0a2ab036a442",
   "metadata": {
    "ExecuteTime": {
     "end_time": "2024-08-02T14:53:19.059113Z",
     "start_time": "2024-08-02T14:53:19.049010Z"
    }
   },
   "source": [
    "# Define SymPy equations for the canonical momenta\n",
    "peq1 = sp.Eq(p_theta1, p_theta1_def)\n",
    "peq2 = sp.Eq(p_theta2, p_theta2_def)"
   ],
   "outputs": [],
   "execution_count": 141
  },
  {
   "cell_type": "code",
   "id": "dd510bdaf31efe36",
   "metadata": {
    "ExecuteTime": {
     "end_time": "2024-08-02T14:53:19.065510Z",
     "start_time": "2024-08-02T14:53:19.060428Z"
    }
   },
   "source": [
    "# Eqn 2\n",
    "display(peq1)"
   ],
   "outputs": [
    {
     "data": {
      "text/plain": [
       "Eq(p_theta_1(t), l1**2*m1*Derivative(theta1(t), t) + l1**2*m2*Derivative(theta1(t), t) + l1*l2*m2*cos(theta1(t) - theta2(t))*Derivative(theta2(t), t))"
      ],
      "text/latex": "$\\displaystyle \\operatorname{p_{\\theta 1}}{\\left(t \\right)} = l_{1}^{2} m_{1} \\frac{d}{d t} \\theta_{1}{\\left(t \\right)} + l_{1}^{2} m_{2} \\frac{d}{d t} \\theta_{1}{\\left(t \\right)} + l_{1} l_{2} m_{2} \\cos{\\left(\\theta_{1}{\\left(t \\right)} - \\theta_{2}{\\left(t \\right)} \\right)} \\frac{d}{d t} \\theta_{2}{\\left(t \\right)}$"
     },
     "metadata": {},
     "output_type": "display_data"
    }
   ],
   "execution_count": 142
  },
  {
   "cell_type": "code",
   "id": "658ba0369b66c7a9",
   "metadata": {
    "ExecuteTime": {
     "end_time": "2024-08-02T14:53:19.072470Z",
     "start_time": "2024-08-02T14:53:19.066550Z"
    }
   },
   "source": [
    "# Eqn 3\n",
    "display(peq2)"
   ],
   "outputs": [
    {
     "data": {
      "text/plain": [
       "Eq(p_theta_2(t), l1*l2*m2*cos(theta1(t) - theta2(t))*Derivative(theta1(t), t) + l2**2*m2*Derivative(theta2(t), t))"
      ],
      "text/latex": "$\\displaystyle \\operatorname{p_{\\theta 2}}{\\left(t \\right)} = l_{1} l_{2} m_{2} \\cos{\\left(\\theta_{1}{\\left(t \\right)} - \\theta_{2}{\\left(t \\right)} \\right)} \\frac{d}{d t} \\theta_{1}{\\left(t \\right)} + l_{2}^{2} m_{2} \\frac{d}{d t} \\theta_{2}{\\left(t \\right)}$"
     },
     "metadata": {},
     "output_type": "display_data"
    }
   ],
   "execution_count": 143
  },
  {
   "metadata": {},
   "cell_type": "markdown",
   "source": [
    "----\n",
    "&nbsp;\n",
    "### Step 2\n",
    "\n",
    "The Hamiltonian $\\mathcal{H}$ representing the total energy of the system, $T + V$, is the Legendre transform of the Lagrangian given by:\n",
    "\n",
    "$$\n",
    "\\mathcal{H} = \\sum_{i=1}^2  \\dot{\\theta_i} p_{\\theta_i} - \\mathcal{L} \\quad \\tag{4}\n",
    "$$\n",
    "\n",
    "From the Hamiltonian, we aim to derive a set of equations of motion equivalent to the Euler-Lagrange equations:\n",
    "\n",
    "$$\\dot{\\theta_i}=\\frac{\\partial \\mathcal{H}}{\\partial p_{\\theta_i}} \\quad \\tag{5}$$ \n",
    "$$\\dot{p_{\\theta_i}}=-\\frac{\\partial \\mathcal{H}}{\\partial \\theta_i} \\quad \\tag{6}$$"
   ],
   "id": "e5549b087fa84109"
  },
  {
   "cell_type": "markdown",
   "id": "bcecdd6581f2415b",
   "metadata": {},
   "source": [
    "Solving eqns $(5)$ and $(6)$ requires us to write $\\mathcal{H}$ as a function of $\\theta_1, \\theta_2, p_{\\theta_1} \\ \\& \\ p_{\\theta_2}$\n",
    "\n",
    "In order to achieve that, we must determine $\\dot{\\theta_i}$ and $L$ in terms of these variables so that we can substitute them into equation (4). \n",
    "\n",
    "Equations $(2)$ and $(3)$ can be written in matrix form as:\n",
    "\n",
    "$$\n",
    "\\begin{pmatrix}\n",
    "p_{\\theta_1} \\\\\n",
    "p_{\\theta_2}\n",
    "\\end{pmatrix} \n",
    "= \n",
    "\\mathbf{B} \n",
    "\\begin{pmatrix}\n",
    "\\dot{\\theta_1} \\\\\n",
    "\\dot{\\theta_2}\n",
    "\\end{pmatrix}\n",
    "\\quad \\tag{7}\n",
    "$$\n",
    "\n",
    "where $\\mathbf{B}$ is a $2 \\times 2$ matrix with entries that are functions of $\\theta_1$ and $\\theta_2$:\n",
    "\n",
    "$$\n",
    "\\mathbf{B} = \n",
    "\\begin{pmatrix}\n",
    "(m_1 + m_2) l_1^2 & m_2 l_1 l_2 \\cos(\\theta_1 - \\theta_2) \\\\\n",
    "m_2 l_1 l_2 \\cos(\\theta_1 - \\theta_2) & m_2 l_2^2\n",
    "\\end{pmatrix}\n",
    "$$\n",
    "\n",
    "From equation (7), we can obtain the generalised velocities $\\dot{\\theta_i}$ in terms of the canonical momenta $p_{\\theta_i}$ and the angles $\\theta_i$:\n",
    "\n",
    "$$\n",
    "\\begin{pmatrix}\n",
    "\\dot{\\theta_1} \\\\\n",
    "\\dot{\\theta_2}\n",
    "\\end{pmatrix}\n",
    "= \n",
    "\\mathbf{B}^{-1} \n",
    "\\begin{pmatrix}\n",
    "p_{\\theta_1} \\\\\n",
    "p_{\\theta_2}\n",
    "\\end{pmatrix}\n",
    "\\quad \\tag{8}\n",
    "$$"
   ]
  },
  {
   "cell_type": "code",
   "id": "2c612826e2df7b00",
   "metadata": {
    "ExecuteTime": {
     "end_time": "2024-08-02T14:53:19.080753Z",
     "start_time": "2024-08-02T14:53:19.073344Z"
    }
   },
   "source": [
    "# Defining the coefficient matrix B\n",
    "B = sp.Matrix([\n",
    "    [(m1 + m2) * l1**2, m2 * l1 * l2 * sp.cos(theta1 - theta2)],\n",
    "    [m2 * l1 * l2 * sp.cos(theta1 - theta2), m2 * l2**2]\n",
    "])\n",
    "\n",
    "display(B)"
   ],
   "outputs": [
    {
     "data": {
      "text/plain": [
       "Matrix([\n",
       "[                    l1**2*(m1 + m2), l1*l2*m2*cos(theta1(t) - theta2(t))],\n",
       "[l1*l2*m2*cos(theta1(t) - theta2(t)),                            l2**2*m2]])"
      ],
      "text/latex": "$\\displaystyle \\left[\\begin{matrix}l_{1}^{2} \\left(m_{1} + m_{2}\\right) & l_{1} l_{2} m_{2} \\cos{\\left(\\theta_{1}{\\left(t \\right)} - \\theta_{2}{\\left(t \\right)} \\right)}\\\\l_{1} l_{2} m_{2} \\cos{\\left(\\theta_{1}{\\left(t \\right)} - \\theta_{2}{\\left(t \\right)} \\right)} & l_{2}^{2} m_{2}\\end{matrix}\\right]$"
     },
     "metadata": {},
     "output_type": "display_data"
    }
   ],
   "execution_count": 144
  },
  {
   "metadata": {},
   "cell_type": "markdown",
   "source": [
    "We notice that $\\mathbf{B}^{T}=\\mathbf{B}$\n",
    "\n",
    "Also, where the Lagrangian is given $\\mathcal{L}=T-V$ in eqn $(1)$, by eqn $(7)$ we can write the kinetic energy in terms of the matrix $\\mathbf{B}$ as;\n",
    "\n",
    "$$\n",
    "T = \\frac{1}{2}\n",
    "\\begin{pmatrix}\n",
    "\\dot{\\theta_1} & \\dot{\\theta_2}\n",
    "\\end{pmatrix}\n",
    "\\mathbf{B}\n",
    "\\begin{pmatrix}\n",
    "\\dot{\\theta_1} \\\\\n",
    "\\dot{\\theta_2}\n",
    "\\end{pmatrix}\n",
    "= \\frac{1}{2}\n",
    "\\begin{pmatrix}\n",
    "\\dot{\\theta_1} & \\dot{\\theta_2}\n",
    "\\end{pmatrix}\n",
    "\\begin{pmatrix}\n",
    "p_{\\theta_1} \\\\\n",
    "p_{\\theta_2}\n",
    "\\end{pmatrix}\n",
    "= \\frac{1}{2} (\\dot{\\theta_1} p_{\\theta_1} + \\dot{\\theta_2} p_{\\theta_2}) \n",
    "\\quad \\tag{9}\n",
    "$$\n"
   ],
   "id": "661e953e6e2b923f"
  },
  {
   "cell_type": "code",
   "id": "5b8f03b293c26bdb",
   "metadata": {
    "ExecuteTime": {
     "end_time": "2024-08-02T14:53:19.093615Z",
     "start_time": "2024-08-02T14:53:19.084005Z"
    }
   },
   "source": [
    "# B has determinant:\n",
    "det_B = B.det()\n",
    "display(det_B)"
   ],
   "outputs": [
    {
     "data": {
      "text/plain": [
       "l1**2*l2**2*m1*m2 - l1**2*l2**2*m2**2*cos(theta1(t) - theta2(t))**2 + l1**2*l2**2*m2**2"
      ],
      "text/latex": "$\\displaystyle l_{1}^{2} l_{2}^{2} m_{1} m_{2} - l_{1}^{2} l_{2}^{2} m_{2}^{2} \\cos^{2}{\\left(\\theta_{1}{\\left(t \\right)} - \\theta_{2}{\\left(t \\right)} \\right)} + l_{1}^{2} l_{2}^{2} m_{2}^{2}$"
     },
     "metadata": {},
     "output_type": "display_data"
    }
   ],
   "execution_count": 145
  },
  {
   "cell_type": "markdown",
   "id": "e6c7ea01a321aa8a",
   "metadata": {},
   "source": [
    "A matrix is invertible if and only if its determinant is non-zero\n",
    "\n",
    "Given that $m_1, m_2, l_1, l_1$ are strictly positive and $1 - \\cos^2(x) \\equiv \\sin^2(x)$ which is bounded between $0$ and $1$ for all $x \\in \\mathbb{R}$, $\\mathbf{B}$ is always invertible."
   ]
  },
  {
   "cell_type": "code",
   "id": "e3661f2dc8b8bdfd",
   "metadata": {
    "ExecuteTime": {
     "end_time": "2024-08-02T14:53:19.679384Z",
     "start_time": "2024-08-02T14:53:19.095257Z"
    }
   },
   "source": [
    "B_inv = B.inv()\n",
    "display(B_inv)"
   ],
   "outputs": [
    {
     "data": {
      "text/plain": [
       "Matrix([\n",
       "[                          1/(l1**2*m1 - l1**2*m2*cos(theta1(t) - theta2(t))**2 + l1**2*m2), -cos(theta1(t) - theta2(t))/(l1*l2*m1 - l1*l2*m2*cos(theta1(t) - theta2(t))**2 + l1*l2*m2)],\n",
       "[-cos(theta1(t) - theta2(t))/(l1*l2*m1 - l1*l2*m2*cos(theta1(t) - theta2(t))**2 + l1*l2*m2),          (m1 + m2)/(l2**2*m1*m2 - l2**2*m2**2*cos(theta1(t) - theta2(t))**2 + l2**2*m2**2)]])"
      ],
      "text/latex": "$\\displaystyle \\left[\\begin{matrix}\\frac{1}{l_{1}^{2} m_{1} - l_{1}^{2} m_{2} \\cos^{2}{\\left(\\theta_{1}{\\left(t \\right)} - \\theta_{2}{\\left(t \\right)} \\right)} + l_{1}^{2} m_{2}} & - \\frac{\\cos{\\left(\\theta_{1}{\\left(t \\right)} - \\theta_{2}{\\left(t \\right)} \\right)}}{l_{1} l_{2} m_{1} - l_{1} l_{2} m_{2} \\cos^{2}{\\left(\\theta_{1}{\\left(t \\right)} - \\theta_{2}{\\left(t \\right)} \\right)} + l_{1} l_{2} m_{2}}\\\\- \\frac{\\cos{\\left(\\theta_{1}{\\left(t \\right)} - \\theta_{2}{\\left(t \\right)} \\right)}}{l_{1} l_{2} m_{1} - l_{1} l_{2} m_{2} \\cos^{2}{\\left(\\theta_{1}{\\left(t \\right)} - \\theta_{2}{\\left(t \\right)} \\right)} + l_{1} l_{2} m_{2}} & \\frac{m_{1} + m_{2}}{l_{2}^{2} m_{1} m_{2} - l_{2}^{2} m_{2}^{2} \\cos^{2}{\\left(\\theta_{1}{\\left(t \\right)} - \\theta_{2}{\\left(t \\right)} \\right)} + l_{2}^{2} m_{2}^{2}}\\end{matrix}\\right]$"
     },
     "metadata": {},
     "output_type": "display_data"
    }
   ],
   "execution_count": 146
  },
  {
   "cell_type": "code",
   "id": "9d192a5ef0d783da",
   "metadata": {
    "ExecuteTime": {
     "end_time": "2024-08-02T14:53:19.682436Z",
     "start_time": "2024-08-02T14:53:19.680251Z"
    }
   },
   "source": [
    "# Define canonical momenta as a matrix\n",
    "p = sp.Matrix([p_theta1, p_theta2])"
   ],
   "outputs": [],
   "execution_count": 147
  },
  {
   "metadata": {},
   "cell_type": "markdown",
   "source": [
    "----\n",
    "&nbsp;\n",
    "### Step 2b\n",
    "\n",
    "We derive eqns $(5)$ from eqn $(8)$ which we can later use to check the validity of our Hamiltonian"
   ],
   "id": "af06ffdeaf2e576"
  },
  {
   "cell_type": "code",
   "id": "d8965809b656219f",
   "metadata": {
    "ExecuteTime": {
     "end_time": "2024-08-02T14:53:19.687703Z",
     "start_time": "2024-08-02T14:53:19.683555Z"
    }
   },
   "source": [
    "# Define the generalised velocities by eqn(8)\n",
    "omega = B_inv * p\n",
    "omega1_sol, omega2_sol = omega[0], omega[1]"
   ],
   "outputs": [],
   "execution_count": 148
  },
  {
   "cell_type": "code",
   "id": "fe2d7e2a60e25dec",
   "metadata": {
    "ExecuteTime": {
     "end_time": "2024-08-02T14:53:19.696097Z",
     "start_time": "2024-08-02T14:53:19.688578Z"
    }
   },
   "source": [
    "display(omega1_sol)"
   ],
   "outputs": [
    {
     "data": {
      "text/plain": [
       "-p_theta_2(t)*cos(theta1(t) - theta2(t))/(l1*l2*m1 - l1*l2*m2*cos(theta1(t) - theta2(t))**2 + l1*l2*m2) + p_theta_1(t)/(l1**2*m1 - l1**2*m2*cos(theta1(t) - theta2(t))**2 + l1**2*m2)"
      ],
      "text/latex": "$\\displaystyle - \\frac{\\operatorname{p_{\\theta 2}}{\\left(t \\right)} \\cos{\\left(\\theta_{1}{\\left(t \\right)} - \\theta_{2}{\\left(t \\right)} \\right)}}{l_{1} l_{2} m_{1} - l_{1} l_{2} m_{2} \\cos^{2}{\\left(\\theta_{1}{\\left(t \\right)} - \\theta_{2}{\\left(t \\right)} \\right)} + l_{1} l_{2} m_{2}} + \\frac{\\operatorname{p_{\\theta 1}}{\\left(t \\right)}}{l_{1}^{2} m_{1} - l_{1}^{2} m_{2} \\cos^{2}{\\left(\\theta_{1}{\\left(t \\right)} - \\theta_{2}{\\left(t \\right)} \\right)} + l_{1}^{2} m_{2}}$"
     },
     "metadata": {},
     "output_type": "display_data"
    }
   ],
   "execution_count": 149
  },
  {
   "cell_type": "code",
   "id": "94b62fa75c85c57",
   "metadata": {
    "ExecuteTime": {
     "end_time": "2024-08-02T14:53:19.704733Z",
     "start_time": "2024-08-02T14:53:19.696930Z"
    }
   },
   "source": [
    "display(omega2_sol)"
   ],
   "outputs": [
    {
     "data": {
      "text/plain": [
       "(m1 + m2)*p_theta_2(t)/(l2**2*m1*m2 - l2**2*m2**2*cos(theta1(t) - theta2(t))**2 + l2**2*m2**2) - p_theta_1(t)*cos(theta1(t) - theta2(t))/(l1*l2*m1 - l1*l2*m2*cos(theta1(t) - theta2(t))**2 + l1*l2*m2)"
      ],
      "text/latex": "$\\displaystyle \\frac{\\left(m_{1} + m_{2}\\right) \\operatorname{p_{\\theta 2}}{\\left(t \\right)}}{l_{2}^{2} m_{1} m_{2} - l_{2}^{2} m_{2}^{2} \\cos^{2}{\\left(\\theta_{1}{\\left(t \\right)} - \\theta_{2}{\\left(t \\right)} \\right)} + l_{2}^{2} m_{2}^{2}} - \\frac{\\operatorname{p_{\\theta 1}}{\\left(t \\right)} \\cos{\\left(\\theta_{1}{\\left(t \\right)} - \\theta_{2}{\\left(t \\right)} \\right)}}{l_{1} l_{2} m_{1} - l_{1} l_{2} m_{2} \\cos^{2}{\\left(\\theta_{1}{\\left(t \\right)} - \\theta_{2}{\\left(t \\right)} \\right)} + l_{1} l_{2} m_{2}}$"
     },
     "metadata": {},
     "output_type": "display_data"
    }
   ],
   "execution_count": 150
  },
  {
   "metadata": {},
   "cell_type": "markdown",
   "source": "We now apply the trigonometric substitution, $1 - \\cos^2(x) = \\sin^2(x)$ and simplify",
   "id": "d5c9bbf366db574c"
  },
  {
   "metadata": {
    "ExecuteTime": {
     "end_time": "2024-08-02T14:53:20.051115Z",
     "start_time": "2024-08-02T14:53:19.705955Z"
    }
   },
   "cell_type": "code",
   "source": [
    "# Simplify omega1_sol substitution for trigonometric identity\n",
    "omega1_sol = sp.simplify(omega1_sol.subs(sp.cos(theta1 - theta2)**2, 1 - sp.sin(theta1 - theta2)**2))\n",
    "display(omega1_sol)"
   ],
   "id": "383e39703f9dbf17",
   "outputs": [
    {
     "data": {
      "text/plain": [
       "(-l1*p_theta_2(t)*cos(theta1(t) - theta2(t)) + l2*p_theta_1(t))/(l1**2*l2*(m1 + m2*sin(theta1(t) - theta2(t))**2))"
      ],
      "text/latex": "$\\displaystyle \\frac{- l_{1} \\operatorname{p_{\\theta 2}}{\\left(t \\right)} \\cos{\\left(\\theta_{1}{\\left(t \\right)} - \\theta_{2}{\\left(t \\right)} \\right)} + l_{2} \\operatorname{p_{\\theta 1}}{\\left(t \\right)}}{l_{1}^{2} l_{2} \\left(m_{1} + m_{2} \\sin^{2}{\\left(\\theta_{1}{\\left(t \\right)} - \\theta_{2}{\\left(t \\right)} \\right)}\\right)}$"
     },
     "metadata": {},
     "output_type": "display_data"
    }
   ],
   "execution_count": 151
  },
  {
   "metadata": {
    "ExecuteTime": {
     "end_time": "2024-08-02T14:53:20.823959Z",
     "start_time": "2024-08-02T14:53:20.051981Z"
    }
   },
   "cell_type": "code",
   "source": [
    "# Simplify omega2_sol with substitution for trigonometric identity\n",
    "omega2_sol_simplified = sp.simplify(omega2_sol.subs(sp.cos(theta1 - theta2)**2, 1 - sp.sin(theta1 - theta2)**2))\n",
    "\n",
    "# Explicitly substitute m2 - m2*cos^2(theta1 - theta2) with m2*sin^2(theta1 - theta2)\n",
    "omega2_sol_targeted = omega2_sol_simplified.subs(m2 - m2 * sp.cos(theta1 - theta2)**2, m2 * sp.sin(theta1 - theta2)**2)\n",
    "omega2_sol = sp.simplify(omega2_sol_targeted)\n",
    "display(omega2_sol)"
   ],
   "id": "7a58850a2addf75e",
   "outputs": [
    {
     "data": {
      "text/plain": [
       "(l1*(m1 + m2)*p_theta_2(t) - l2*m2*p_theta_1(t)*cos(theta1(t) - theta2(t)))/(l1*l2**2*m2*(m1 + m2*sin(theta1(t) - theta2(t))**2))"
      ],
      "text/latex": "$\\displaystyle \\frac{l_{1} \\left(m_{1} + m_{2}\\right) \\operatorname{p_{\\theta 2}}{\\left(t \\right)} - l_{2} m_{2} \\operatorname{p_{\\theta 1}}{\\left(t \\right)} \\cos{\\left(\\theta_{1}{\\left(t \\right)} - \\theta_{2}{\\left(t \\right)} \\right)}}{l_{1} l_{2}^{2} m_{2} \\left(m_{1} + m_{2} \\sin^{2}{\\left(\\theta_{1}{\\left(t \\right)} - \\theta_{2}{\\left(t \\right)} \\right)}\\right)}$"
     },
     "metadata": {},
     "output_type": "display_data"
    }
   ],
   "execution_count": 152
  },
  {
   "metadata": {},
   "cell_type": "markdown",
   "source": [
    "Hence, we have defined:\n",
    "\n",
    "$$\\dot{\\theta_1}=\\frac{- l_{1} \\operatorname{p_{\\theta 2}} \\cos{\\left(\\theta_{1} - \\theta_{2} \\right)} + l_{2} \\operatorname{p_{\\theta 1}}}{l_{1}^{2} l_{2} \\left(m_{1} + m_{2} \\sin^{2}{\\left(\\theta_{1} - \\theta_{2} \\right)}\\right)} \\quad \\tag{10}$$\n",
    "\n",
    "$$\\dot{\\theta_2}=\\frac{l_{1} \\left(m_{1} + m_{2}\\right) \\operatorname{p_{\\theta 2}} - l_{2} m_{2} \\operatorname{p_{\\theta 1}} \\cos{\\left(\\theta_{1} - \\theta_{2} \\right)}}{l_{1} l_{2}^{2} m_{2} \\left(m_{1} + m_{2} \\sin^{2}{\\left(\\theta_{1} - \\theta_{2} \\right)}\\right)} \\quad \\tag{11}$$\n",
    "\n",
    "Which we could substitute into equation $(4)$ to yield the Hamiltonian"
   ],
   "id": "d44d8574ed06ec1d"
  },
  {
   "metadata": {},
   "cell_type": "markdown",
   "source": [
    "----\n",
    "&nbsp;\n",
    "### Step 3\n",
    "\n",
    "Let's circumvent the complexity of deriving equation $(4)$ from $(10)$ & $(11)$ and derive the Hamiltonian from $H=T+V$"
   ],
   "id": "17a213370cc5dd1f"
  },
  {
   "metadata": {},
   "cell_type": "markdown",
   "source": [
    "Starting from eqn $(8)$ using the transposed relation;\n",
    "\n",
    "$$\n",
    "\\begin{pmatrix}\n",
    "\\dot{\\theta_1} \\\\\n",
    "\\dot{\\theta_2}\n",
    "\\end{pmatrix}\n",
    "= \\begin{pmatrix}\n",
    "p_1 & p_2\n",
    "\\end{pmatrix}\n",
    "\\left(\\mathbf{B}^{-1}\\right)^T = \\begin{pmatrix}\n",
    "p_1 & p_2\n",
    "\\end{pmatrix} \\mathbf{B}^{-1},\n",
    "$$\n",
    "\n",
    "By eqn $(9)$ we can write the kinetic energy, in the form\n",
    "\n",
    "$$\n",
    "T = \\frac{1}{2}\n",
    "\\begin{pmatrix}\n",
    "p_1 & p_2\n",
    "\\end{pmatrix}\n",
    "\\mathbf{B}^{-1}\n",
    "\\begin{pmatrix}\n",
    "p_1 \\\\\n",
    "p_2\n",
    "\\end{pmatrix}.\n",
    "$$\n",
    "\n",
    "Now the Hamiltonian function becomes,\n",
    "\n",
    "$$\n",
    "\\mathcal{H} = T + V = \\frac{1}{2}\n",
    "\\begin{pmatrix}\n",
    "p_1 & p_2\n",
    "\\end{pmatrix}\n",
    "\\mathbf{B}^{-1}\n",
    "\\begin{pmatrix}\n",
    "p_1 \\\\\n",
    "p_2\n",
    "\\end{pmatrix}\n",
    "- (m_1 + m_2) g l_1 \\cos \\varphi_1 - m_2 g l_2 \\cos \\varphi_2.\n",
    "$$\n"
   ],
   "id": "c0e8645da4ad3e14"
  },
  {
   "metadata": {
    "ExecuteTime": {
     "end_time": "2024-08-02T14:53:21.493216Z",
     "start_time": "2024-08-02T14:53:20.825099Z"
    }
   },
   "cell_type": "code",
   "source": [
    "# Kinetic energy T expressed in terms of canonical momenta\n",
    "T = sp.Rational(1,2) * p.T * B_inv * p\n",
    "\n",
    "# Simplify T, apply trig ident\n",
    "T_target = T[0].subs(sp.cos(theta1 - theta2)**2, 1 -  sp.sin(theta1 - theta2)**2)\n",
    "T_simp = sp.simplify(T_target)\n",
    "display(T_simp)"
   ],
   "id": "d679a98c86441c69",
   "outputs": [
    {
     "data": {
      "text/plain": [
       "(l1**2*m1*p_theta_2(t)**2 + l1**2*m2*p_theta_2(t)**2 - 2*l1*l2*m2*p_theta_1(t)*p_theta_2(t)*cos(theta1(t) - theta2(t)) + l2**2*m2*p_theta_1(t)**2)/(2*l1**2*l2**2*m2*(m1 + m2*sin(theta1(t) - theta2(t))**2))"
      ],
      "text/latex": "$\\displaystyle \\frac{l_{1}^{2} m_{1} \\operatorname{p_{\\theta 2}}^{2}{\\left(t \\right)} + l_{1}^{2} m_{2} \\operatorname{p_{\\theta 2}}^{2}{\\left(t \\right)} - 2 l_{1} l_{2} m_{2} \\operatorname{p_{\\theta 1}}{\\left(t \\right)} \\operatorname{p_{\\theta 2}}{\\left(t \\right)} \\cos{\\left(\\theta_{1}{\\left(t \\right)} - \\theta_{2}{\\left(t \\right)} \\right)} + l_{2}^{2} m_{2} \\operatorname{p_{\\theta 1}}^{2}{\\left(t \\right)}}{2 l_{1}^{2} l_{2}^{2} m_{2} \\left(m_{1} + m_{2} \\sin^{2}{\\left(\\theta_{1}{\\left(t \\right)} - \\theta_{2}{\\left(t \\right)} \\right)}\\right)}$"
     },
     "metadata": {},
     "output_type": "display_data"
    }
   ],
   "execution_count": 153
  },
  {
   "metadata": {
    "ExecuteTime": {
     "end_time": "2024-08-02T14:53:21.500449Z",
     "start_time": "2024-08-02T14:53:21.494235Z"
    }
   },
   "cell_type": "code",
   "source": [
    "# Potential energy V\n",
    "V = -(m1 + m2) * g * l1 * sp.cos(theta1) - m2 * g * l2 * sp.cos(theta2)\n",
    "display(V)"
   ],
   "id": "be7c6195603ffc35",
   "outputs": [
    {
     "data": {
      "text/plain": [
       "g*l1*(-m1 - m2)*cos(theta1(t)) - g*l2*m2*cos(theta2(t))"
      ],
      "text/latex": "$\\displaystyle g l_{1} \\left(- m_{1} - m_{2}\\right) \\cos{\\left(\\theta_{1}{\\left(t \\right)} \\right)} - g l_{2} m_{2} \\cos{\\left(\\theta_{2}{\\left(t \\right)} \\right)}$"
     },
     "metadata": {},
     "output_type": "display_data"
    }
   ],
   "execution_count": 154
  },
  {
   "metadata": {
    "ExecuteTime": {
     "end_time": "2024-08-02T14:53:21.510262Z",
     "start_time": "2024-08-02T14:53:21.501672Z"
    }
   },
   "cell_type": "code",
   "source": [
    "# Return the Hamiltonian \n",
    "H = T_simp + V\n",
    "display(H)"
   ],
   "id": "4a9c292b1c540eb5",
   "outputs": [
    {
     "data": {
      "text/plain": [
       "g*l1*(-m1 - m2)*cos(theta1(t)) - g*l2*m2*cos(theta2(t)) + (l1**2*m1*p_theta_2(t)**2 + l1**2*m2*p_theta_2(t)**2 - 2*l1*l2*m2*p_theta_1(t)*p_theta_2(t)*cos(theta1(t) - theta2(t)) + l2**2*m2*p_theta_1(t)**2)/(2*l1**2*l2**2*m2*(m1 + m2*sin(theta1(t) - theta2(t))**2))"
      ],
      "text/latex": "$\\displaystyle g l_{1} \\left(- m_{1} - m_{2}\\right) \\cos{\\left(\\theta_{1}{\\left(t \\right)} \\right)} - g l_{2} m_{2} \\cos{\\left(\\theta_{2}{\\left(t \\right)} \\right)} + \\frac{l_{1}^{2} m_{1} \\operatorname{p_{\\theta 2}}^{2}{\\left(t \\right)} + l_{1}^{2} m_{2} \\operatorname{p_{\\theta 2}}^{2}{\\left(t \\right)} - 2 l_{1} l_{2} m_{2} \\operatorname{p_{\\theta 1}}{\\left(t \\right)} \\operatorname{p_{\\theta 2}}{\\left(t \\right)} \\cos{\\left(\\theta_{1}{\\left(t \\right)} - \\theta_{2}{\\left(t \\right)} \\right)} + l_{2}^{2} m_{2} \\operatorname{p_{\\theta 1}}^{2}{\\left(t \\right)}}{2 l_{1}^{2} l_{2}^{2} m_{2} \\left(m_{1} + m_{2} \\sin^{2}{\\left(\\theta_{1}{\\left(t \\right)} - \\theta_{2}{\\left(t \\right)} \\right)}\\right)}$"
     },
     "metadata": {},
     "output_type": "display_data"
    }
   ],
   "execution_count": 155
  },
  {
   "metadata": {},
   "cell_type": "markdown",
   "source": [
    "----\n",
    "&nbsp;\n",
    "### Step 4\n",
    "\n",
    "#### Forming the first order system\n",
    "\n",
    "Partially differentiating $\\mathcal{H}$ w.r.t $p_{\\theta_i}$ should return eqns $(10)$ and $(11)$ "
   ],
   "id": "b6654b906f3705ea"
  },
  {
   "metadata": {
    "ExecuteTime": {
     "end_time": "2024-08-02T14:54:06.731308Z",
     "start_time": "2024-08-02T14:54:06.426903Z"
    }
   },
   "cell_type": "code",
   "source": [
    "# Partially differentiate H with respect to p_theta1 and p_theta2\n",
    "H_theta1 = sp.diff(H, p_theta1)\n",
    "H_theta1 = sp.simplify(H_theta1)\n",
    "display(H_theta1)"
   ],
   "id": "1b5ef1a49b01e470",
   "outputs": [
    {
     "data": {
      "text/plain": [
       "(-l1*p_theta_2(t)*cos(theta1(t) - theta2(t)) + l2*p_theta_1(t))/(l1**2*l2*(m1 + m2*sin(theta1(t) - theta2(t))**2))"
      ],
      "text/latex": "$\\displaystyle \\frac{- l_{1} \\operatorname{p_{\\theta 2}}{\\left(t \\right)} \\cos{\\left(\\theta_{1}{\\left(t \\right)} - \\theta_{2}{\\left(t \\right)} \\right)} + l_{2} \\operatorname{p_{\\theta 1}}{\\left(t \\right)}}{l_{1}^{2} l_{2} \\left(m_{1} + m_{2} \\sin^{2}{\\left(\\theta_{1}{\\left(t \\right)} - \\theta_{2}{\\left(t \\right)} \\right)}\\right)}$"
     },
     "metadata": {},
     "output_type": "display_data"
    }
   ],
   "execution_count": 160
  },
  {
   "metadata": {
    "ExecuteTime": {
     "end_time": "2024-08-02T14:54:11.664782Z",
     "start_time": "2024-08-02T14:54:11.226769Z"
    }
   },
   "cell_type": "code",
   "source": [
    "H_theta2 = sp.diff(H, p_theta2)\n",
    "H_theta2 = sp.simplify(H_theta2)\n",
    "display(H_theta2)"
   ],
   "id": "b6f31a6ed3ad55b1",
   "outputs": [
    {
     "data": {
      "text/plain": [
       "(l1*m1*p_theta_2(t) + l1*m2*p_theta_2(t) - l2*m2*p_theta_1(t)*cos(theta1(t) - theta2(t)))/(l1*l2**2*m2*(m1 + m2*sin(theta1(t) - theta2(t))**2))"
      ],
      "text/latex": "$\\displaystyle \\frac{l_{1} m_{1} \\operatorname{p_{\\theta 2}}{\\left(t \\right)} + l_{1} m_{2} \\operatorname{p_{\\theta 2}}{\\left(t \\right)} - l_{2} m_{2} \\operatorname{p_{\\theta 1}}{\\left(t \\right)} \\cos{\\left(\\theta_{1}{\\left(t \\right)} - \\theta_{2}{\\left(t \\right)} \\right)}}{l_{1} l_{2}^{2} m_{2} \\left(m_{1} + m_{2} \\sin^{2}{\\left(\\theta_{1}{\\left(t \\right)} - \\theta_{2}{\\left(t \\right)} \\right)}\\right)}$"
     },
     "metadata": {},
     "output_type": "display_data"
    }
   ],
   "execution_count": 161
  },
  {
   "metadata": {},
   "cell_type": "markdown",
   "source": "Which are indeed equivalent to eqns $(10)$ and $(11)$ ",
   "id": "291023d95b3bc531"
  },
  {
   "metadata": {},
   "cell_type": "markdown",
   "source": "Deriving the equations for $\\dot{p_{\\theta_1}}$ and $\\dot{p_{\\theta_2}}$",
   "id": "753a638a97ebdb6b"
  },
  {
   "metadata": {
    "ExecuteTime": {
     "end_time": "2024-08-02T14:55:33.911910Z",
     "start_time": "2024-08-02T14:55:27.642931Z"
    }
   },
   "cell_type": "code",
   "source": [
    "H_p_theta1 = -sp.diff(H, theta1)\n",
    "H_p_theta1 = sp.simplify(H_p_theta1)\n",
    "display(H_p_theta1)"
   ],
   "id": "396bb74ae513d47c",
   "outputs": [
    {
     "data": {
      "text/plain": [
       "(-g*l1**3*l2**2*(m1 + m2)*(m1 + m2*sin(theta1(t) - theta2(t))**2)**2*sin(theta1(t)) - l1*l2*(m1 + m2*sin(theta1(t) - theta2(t))**2)*p_theta_1(t)*p_theta_2(t)*sin(theta1(t) - theta2(t)) + (l1**2*m1*p_theta_2(t)**2 + l1**2*m2*p_theta_2(t)**2 - 2*l1*l2*m2*p_theta_1(t)*p_theta_2(t)*cos(theta1(t) - theta2(t)) + l2**2*m2*p_theta_1(t)**2)*sin(theta1(t) - theta2(t))*cos(theta1(t) - theta2(t)))/(l1**2*l2**2*(m1 + m2*sin(theta1(t) - theta2(t))**2)**2)"
      ],
      "text/latex": "$\\displaystyle \\frac{- g l_{1}^{3} l_{2}^{2} \\left(m_{1} + m_{2}\\right) \\left(m_{1} + m_{2} \\sin^{2}{\\left(\\theta_{1}{\\left(t \\right)} - \\theta_{2}{\\left(t \\right)} \\right)}\\right)^{2} \\sin{\\left(\\theta_{1}{\\left(t \\right)} \\right)} - l_{1} l_{2} \\left(m_{1} + m_{2} \\sin^{2}{\\left(\\theta_{1}{\\left(t \\right)} - \\theta_{2}{\\left(t \\right)} \\right)}\\right) \\operatorname{p_{\\theta 1}}{\\left(t \\right)} \\operatorname{p_{\\theta 2}}{\\left(t \\right)} \\sin{\\left(\\theta_{1}{\\left(t \\right)} - \\theta_{2}{\\left(t \\right)} \\right)} + \\left(l_{1}^{2} m_{1} \\operatorname{p_{\\theta 2}}^{2}{\\left(t \\right)} + l_{1}^{2} m_{2} \\operatorname{p_{\\theta 2}}^{2}{\\left(t \\right)} - 2 l_{1} l_{2} m_{2} \\operatorname{p_{\\theta 1}}{\\left(t \\right)} \\operatorname{p_{\\theta 2}}{\\left(t \\right)} \\cos{\\left(\\theta_{1}{\\left(t \\right)} - \\theta_{2}{\\left(t \\right)} \\right)} + l_{2}^{2} m_{2} \\operatorname{p_{\\theta 1}}^{2}{\\left(t \\right)}\\right) \\sin{\\left(\\theta_{1}{\\left(t \\right)} - \\theta_{2}{\\left(t \\right)} \\right)} \\cos{\\left(\\theta_{1}{\\left(t \\right)} - \\theta_{2}{\\left(t \\right)} \\right)}}{l_{1}^{2} l_{2}^{2} \\left(m_{1} + m_{2} \\sin^{2}{\\left(\\theta_{1}{\\left(t \\right)} - \\theta_{2}{\\left(t \\right)} \\right)}\\right)^{2}}$"
     },
     "metadata": {},
     "output_type": "display_data"
    }
   ],
   "execution_count": 162
  },
  {
   "metadata": {
    "ExecuteTime": {
     "end_time": "2024-08-02T14:56:17.085349Z",
     "start_time": "2024-08-02T14:56:12.544075Z"
    }
   },
   "cell_type": "code",
   "source": [
    "H_p_theta2 = -sp.diff(H, theta2)\n",
    "H_p_theta2 = sp.simplify(H_p_theta2)\n",
    "display(H_p_theta2)"
   ],
   "id": "541fc7a269766c70",
   "outputs": [
    {
     "data": {
      "text/plain": [
       "(-g*l1**2*l2**3*m2*(m1 + m2*sin(theta1(t) - theta2(t))**2)**2*sin(theta2(t)) + l1*l2*(m1 + m2*sin(theta1(t) - theta2(t))**2)*p_theta_1(t)*p_theta_2(t)*sin(theta1(t) - theta2(t)) - (l1**2*m1*p_theta_2(t)**2 + l1**2*m2*p_theta_2(t)**2 - 2*l1*l2*m2*p_theta_1(t)*p_theta_2(t)*cos(theta1(t) - theta2(t)) + l2**2*m2*p_theta_1(t)**2)*sin(theta1(t) - theta2(t))*cos(theta1(t) - theta2(t)))/(l1**2*l2**2*(m1 + m2*sin(theta1(t) - theta2(t))**2)**2)"
      ],
      "text/latex": "$\\displaystyle \\frac{- g l_{1}^{2} l_{2}^{3} m_{2} \\left(m_{1} + m_{2} \\sin^{2}{\\left(\\theta_{1}{\\left(t \\right)} - \\theta_{2}{\\left(t \\right)} \\right)}\\right)^{2} \\sin{\\left(\\theta_{2}{\\left(t \\right)} \\right)} + l_{1} l_{2} \\left(m_{1} + m_{2} \\sin^{2}{\\left(\\theta_{1}{\\left(t \\right)} - \\theta_{2}{\\left(t \\right)} \\right)}\\right) \\operatorname{p_{\\theta 1}}{\\left(t \\right)} \\operatorname{p_{\\theta 2}}{\\left(t \\right)} \\sin{\\left(\\theta_{1}{\\left(t \\right)} - \\theta_{2}{\\left(t \\right)} \\right)} - \\left(l_{1}^{2} m_{1} \\operatorname{p_{\\theta 2}}^{2}{\\left(t \\right)} + l_{1}^{2} m_{2} \\operatorname{p_{\\theta 2}}^{2}{\\left(t \\right)} - 2 l_{1} l_{2} m_{2} \\operatorname{p_{\\theta 1}}{\\left(t \\right)} \\operatorname{p_{\\theta 2}}{\\left(t \\right)} \\cos{\\left(\\theta_{1}{\\left(t \\right)} - \\theta_{2}{\\left(t \\right)} \\right)} + l_{2}^{2} m_{2} \\operatorname{p_{\\theta 1}}^{2}{\\left(t \\right)}\\right) \\sin{\\left(\\theta_{1}{\\left(t \\right)} - \\theta_{2}{\\left(t \\right)} \\right)} \\cos{\\left(\\theta_{1}{\\left(t \\right)} - \\theta_{2}{\\left(t \\right)} \\right)}}{l_{1}^{2} l_{2}^{2} \\left(m_{1} + m_{2} \\sin^{2}{\\left(\\theta_{1}{\\left(t \\right)} - \\theta_{2}{\\left(t \\right)} \\right)}\\right)^{2}}$"
     },
     "metadata": {},
     "output_type": "display_data"
    }
   ],
   "execution_count": 163
  },
  {
   "metadata": {
    "ExecuteTime": {
     "end_time": "2024-08-02T15:14:18.283699Z",
     "start_time": "2024-08-02T15:14:18.263552Z"
    }
   },
   "cell_type": "code",
   "source": [
    "# Declare all as SymPy equations\n",
    "Heq1 = sp.Eq(omega1, H_theta1)\n",
    "Heq2 = sp.Eq(omega2, H_theta2)\n",
    "Heq3 = sp.Eq(sp.diff(p_theta1, t), H_p_theta1)\n",
    "Heq4 = sp.Eq(sp.diff(p_theta2, t), H_p_theta2)"
   ],
   "id": "1055f11c76d9ecf5",
   "outputs": [],
   "execution_count": 167
  },
  {
   "metadata": {},
   "cell_type": "markdown",
   "source": [
    "----\n",
    "&nbsp;\n",
    "### Step 5\n",
    "\n",
    "#### Declare matrix equations"
   ],
   "id": "d03dfe06fd3934cf"
  },
  {
   "metadata": {
    "ExecuteTime": {
     "end_time": "2024-08-02T15:14:29.042300Z",
     "start_time": "2024-08-02T15:14:28.995762Z"
    }
   },
   "cell_type": "code",
   "source": [
    "LHS_FIRST = sp.Matrix([[Heq1.lhs], [Heq2.lhs], [Heq3.lhs], [Heq4.lhs]])\n",
    "RHS_FIRST = sp.Matrix([[Heq1.rhs], [Heq2.rhs], [Heq3.rhs], [Heq4.rhs]])\n",
    "\n",
    "MAT_EQ = sp.Eq(LHS_FIRST, RHS_FIRST)\n",
    "display(MAT_EQ)"
   ],
   "id": "2d662078569d0fab",
   "outputs": [
    {
     "data": {
      "text/plain": [
       "Eq(Matrix([\n",
       "[   Derivative(theta1(t), t)],\n",
       "[   Derivative(theta2(t), t)],\n",
       "[Derivative(p_theta_1(t), t)],\n",
       "[Derivative(p_theta_2(t), t)]]), Matrix([\n",
       "[                                                                                                                                                                                                                                                                                                                                           (-l1*p_theta_2(t)*cos(theta1(t) - theta2(t)) + l2*p_theta_1(t))/(l1**2*l2*(m1 + m2*sin(theta1(t) - theta2(t))**2))],\n",
       "[                                                                                                                                                                                                                                                                                                              (l1*m1*p_theta_2(t) + l1*m2*p_theta_2(t) - l2*m2*p_theta_1(t)*cos(theta1(t) - theta2(t)))/(l1*l2**2*m2*(m1 + m2*sin(theta1(t) - theta2(t))**2))],\n",
       "[(-g*l1**3*l2**2*(m1 + m2)*(m1 + m2*sin(theta1(t) - theta2(t))**2)**2*sin(theta1(t)) - l1*l2*(m1 + m2*sin(theta1(t) - theta2(t))**2)*p_theta_1(t)*p_theta_2(t)*sin(theta1(t) - theta2(t)) + (l1**2*m1*p_theta_2(t)**2 + l1**2*m2*p_theta_2(t)**2 - 2*l1*l2*m2*p_theta_1(t)*p_theta_2(t)*cos(theta1(t) - theta2(t)) + l2**2*m2*p_theta_1(t)**2)*sin(theta1(t) - theta2(t))*cos(theta1(t) - theta2(t)))/(l1**2*l2**2*(m1 + m2*sin(theta1(t) - theta2(t))**2)**2)],\n",
       "[       (-g*l1**2*l2**3*m2*(m1 + m2*sin(theta1(t) - theta2(t))**2)**2*sin(theta2(t)) + l1*l2*(m1 + m2*sin(theta1(t) - theta2(t))**2)*p_theta_1(t)*p_theta_2(t)*sin(theta1(t) - theta2(t)) - (l1**2*m1*p_theta_2(t)**2 + l1**2*m2*p_theta_2(t)**2 - 2*l1*l2*m2*p_theta_1(t)*p_theta_2(t)*cos(theta1(t) - theta2(t)) + l2**2*m2*p_theta_1(t)**2)*sin(theta1(t) - theta2(t))*cos(theta1(t) - theta2(t)))/(l1**2*l2**2*(m1 + m2*sin(theta1(t) - theta2(t))**2)**2)]]))"
      ],
      "text/latex": "$\\displaystyle \\left[\\begin{matrix}\\frac{d}{d t} \\theta_{1}{\\left(t \\right)}\\\\\\frac{d}{d t} \\theta_{2}{\\left(t \\right)}\\\\\\frac{d}{d t} \\operatorname{p_{\\theta 1}}{\\left(t \\right)}\\\\\\frac{d}{d t} \\operatorname{p_{\\theta 2}}{\\left(t \\right)}\\end{matrix}\\right] = \\left[\\begin{matrix}\\frac{- l_{1} \\operatorname{p_{\\theta 2}}{\\left(t \\right)} \\cos{\\left(\\theta_{1}{\\left(t \\right)} - \\theta_{2}{\\left(t \\right)} \\right)} + l_{2} \\operatorname{p_{\\theta 1}}{\\left(t \\right)}}{l_{1}^{2} l_{2} \\left(m_{1} + m_{2} \\sin^{2}{\\left(\\theta_{1}{\\left(t \\right)} - \\theta_{2}{\\left(t \\right)} \\right)}\\right)}\\\\\\frac{l_{1} m_{1} \\operatorname{p_{\\theta 2}}{\\left(t \\right)} + l_{1} m_{2} \\operatorname{p_{\\theta 2}}{\\left(t \\right)} - l_{2} m_{2} \\operatorname{p_{\\theta 1}}{\\left(t \\right)} \\cos{\\left(\\theta_{1}{\\left(t \\right)} - \\theta_{2}{\\left(t \\right)} \\right)}}{l_{1} l_{2}^{2} m_{2} \\left(m_{1} + m_{2} \\sin^{2}{\\left(\\theta_{1}{\\left(t \\right)} - \\theta_{2}{\\left(t \\right)} \\right)}\\right)}\\\\\\frac{- g l_{1}^{3} l_{2}^{2} \\left(m_{1} + m_{2}\\right) \\left(m_{1} + m_{2} \\sin^{2}{\\left(\\theta_{1}{\\left(t \\right)} - \\theta_{2}{\\left(t \\right)} \\right)}\\right)^{2} \\sin{\\left(\\theta_{1}{\\left(t \\right)} \\right)} - l_{1} l_{2} \\left(m_{1} + m_{2} \\sin^{2}{\\left(\\theta_{1}{\\left(t \\right)} - \\theta_{2}{\\left(t \\right)} \\right)}\\right) \\operatorname{p_{\\theta 1}}{\\left(t \\right)} \\operatorname{p_{\\theta 2}}{\\left(t \\right)} \\sin{\\left(\\theta_{1}{\\left(t \\right)} - \\theta_{2}{\\left(t \\right)} \\right)} + \\left(l_{1}^{2} m_{1} \\operatorname{p_{\\theta 2}}^{2}{\\left(t \\right)} + l_{1}^{2} m_{2} \\operatorname{p_{\\theta 2}}^{2}{\\left(t \\right)} - 2 l_{1} l_{2} m_{2} \\operatorname{p_{\\theta 1}}{\\left(t \\right)} \\operatorname{p_{\\theta 2}}{\\left(t \\right)} \\cos{\\left(\\theta_{1}{\\left(t \\right)} - \\theta_{2}{\\left(t \\right)} \\right)} + l_{2}^{2} m_{2} \\operatorname{p_{\\theta 1}}^{2}{\\left(t \\right)}\\right) \\sin{\\left(\\theta_{1}{\\left(t \\right)} - \\theta_{2}{\\left(t \\right)} \\right)} \\cos{\\left(\\theta_{1}{\\left(t \\right)} - \\theta_{2}{\\left(t \\right)} \\right)}}{l_{1}^{2} l_{2}^{2} \\left(m_{1} + m_{2} \\sin^{2}{\\left(\\theta_{1}{\\left(t \\right)} - \\theta_{2}{\\left(t \\right)} \\right)}\\right)^{2}}\\\\\\frac{- g l_{1}^{2} l_{2}^{3} m_{2} \\left(m_{1} + m_{2} \\sin^{2}{\\left(\\theta_{1}{\\left(t \\right)} - \\theta_{2}{\\left(t \\right)} \\right)}\\right)^{2} \\sin{\\left(\\theta_{2}{\\left(t \\right)} \\right)} + l_{1} l_{2} \\left(m_{1} + m_{2} \\sin^{2}{\\left(\\theta_{1}{\\left(t \\right)} - \\theta_{2}{\\left(t \\right)} \\right)}\\right) \\operatorname{p_{\\theta 1}}{\\left(t \\right)} \\operatorname{p_{\\theta 2}}{\\left(t \\right)} \\sin{\\left(\\theta_{1}{\\left(t \\right)} - \\theta_{2}{\\left(t \\right)} \\right)} - \\left(l_{1}^{2} m_{1} \\operatorname{p_{\\theta 2}}^{2}{\\left(t \\right)} + l_{1}^{2} m_{2} \\operatorname{p_{\\theta 2}}^{2}{\\left(t \\right)} - 2 l_{1} l_{2} m_{2} \\operatorname{p_{\\theta 1}}{\\left(t \\right)} \\operatorname{p_{\\theta 2}}{\\left(t \\right)} \\cos{\\left(\\theta_{1}{\\left(t \\right)} - \\theta_{2}{\\left(t \\right)} \\right)} + l_{2}^{2} m_{2} \\operatorname{p_{\\theta 1}}^{2}{\\left(t \\right)}\\right) \\sin{\\left(\\theta_{1}{\\left(t \\right)} - \\theta_{2}{\\left(t \\right)} \\right)} \\cos{\\left(\\theta_{1}{\\left(t \\right)} - \\theta_{2}{\\left(t \\right)} \\right)}}{l_{1}^{2} l_{2}^{2} \\left(m_{1} + m_{2} \\sin^{2}{\\left(\\theta_{1}{\\left(t \\right)} - \\theta_{2}{\\left(t \\right)} \\right)}\\right)^{2}}\\end{matrix}\\right]$"
     },
     "metadata": {},
     "output_type": "display_data"
    }
   ],
   "execution_count": 168
  },
  {
   "metadata": {},
   "cell_type": "markdown",
   "source": "----",
   "id": "fa6cb6b1d9f4ac23"
  }
 ],
 "metadata": {
  "kernelspec": {
   "display_name": "Python 3 (ipykernel)",
   "language": "python",
   "name": "python3"
  },
  "language_info": {
   "codemirror_mode": {
    "name": "ipython",
    "version": 3
   },
   "file_extension": ".py",
   "mimetype": "text/x-python",
   "name": "python",
   "nbconvert_exporter": "python",
   "pygments_lexer": "ipython3",
   "version": "3.9.12"
  },
  "toc": {
   "base_numbering": 1,
   "nav_menu": {},
   "number_sections": true,
   "sideBar": true,
   "skip_h1_title": false,
   "title_cell": "Table of Contents",
   "title_sidebar": "Contents",
   "toc_cell": false,
   "toc_position": {},
   "toc_section_display": true,
   "toc_window_display": false
  }
 },
 "nbformat": 4,
 "nbformat_minor": 5
}
